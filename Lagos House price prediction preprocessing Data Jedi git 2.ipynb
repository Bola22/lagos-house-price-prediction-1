{
 "cells": [
  {
   "cell_type": "code",
   "execution_count": 42,
   "metadata": {},
   "outputs": [
    {
     "name": "stdout",
     "output_type": "stream",
     "text": [
      "Populating the interactive namespace from numpy and matplotlib\n"
     ]
    }
   ],
   "source": [
    "## Import Libraies\n",
    "import pandas as pd\n",
    "%pylab inline\n",
    "import numpy as np\n",
    "import re\n",
    "import seaborn as sns\n",
    "import matplotlib.pyplot as plt\n",
    "%matplotlib inline\n",
    "from math import sqrt\n",
    "from sklearn.ensemble import RandomForestRegressor\n",
    "from sklearn import preprocessing\n",
    "import sklearn.model_selection as ms\n",
    "import sklearn.metrics as sklm\n",
    "from sklearn.metrics import accuracy_score\n",
    "from sklearn.metrics import mean_squared_error\n",
    "from sklearn.metrics import roc_curve,auc\n",
    "from sklearn.metrics import r2_score\n",
    "from sklearn.model_selection import train_test_split\n",
    "from sklearn import datasets, linear_model\n",
    "from scipy.stats import pearsonr\n",
    "from sklearn.model_selection import KFold, StratifiedKFold, cross_val_score\n",
    "from sklearn import linear_model, tree, ensemble\n",
    "import pickle\n",
    "import warnings\n",
    "warnings.filterwarnings('ignore')\n"
   ]
  },
  {
   "cell_type": "markdown",
   "metadata": {},
   "source": [
    "# Data Cleaning and Preparation"
   ]
  },
  {
   "cell_type": "code",
   "execution_count": 43,
   "metadata": {},
   "outputs": [],
   "source": [
    "## Load housing data ##\n",
    "yaba = pd.read_csv('Data/House_prices_yaba.csv')\n",
    "surulere = pd.read_csv('Data/House_prices_surulere.csv')\n",
    "ikeja = pd.read_csv('Data/House_prices_ikeja.csv')\n",
    "gbagada = pd.read_csv('Data/House_prices_gbagada.csv')\n",
    "ajah = pd.read_csv('Data/House_prices_ajah.csv')\n",
    "lekki = pd.read_csv('Data/House_prices_lekki_phase_1.csv')\n",
    "ikorodu = pd.read_csv('Data/House_prices_ikorodu.csv')"
   ]
  },
  {
   "cell_type": "code",
   "execution_count": 44,
   "metadata": {},
   "outputs": [],
   "source": [
    "## Append housing data into data set ##\n",
    "data1 = yaba.append(surulere)\n",
    "data2 = data1.append(gbagada)\n",
    "data3 = data2.append(lekki)\n",
    "data4 = data3.append(ikorodu)\n",
    "data5 = data4.append(ikeja)\n",
    "lagos_house_data = data5.append(ajah)"
   ]
  },
  {
   "cell_type": "code",
   "execution_count": 45,
   "metadata": {},
   "outputs": [
    {
     "data": {
      "text/plain": [
       "(46789, 15)"
      ]
     },
     "execution_count": 45,
     "metadata": {},
     "output_type": "execute_result"
    }
   ],
   "source": [
    "## Data Shape ##\n",
    "lagos_house_data.shape"
   ]
  },
  {
   "cell_type": "markdown",
   "metadata": {},
   "source": [
    "## Checking and Removing Duplicate Records from the Dataset"
   ]
  },
  {
   "cell_type": "code",
   "execution_count": 46,
   "metadata": {},
   "outputs": [
    {
     "data": {
      "text/html": [
       "<div>\n",
       "<style scoped>\n",
       "    .dataframe tbody tr th:only-of-type {\n",
       "        vertical-align: middle;\n",
       "    }\n",
       "\n",
       "    .dataframe tbody tr th {\n",
       "        vertical-align: top;\n",
       "    }\n",
       "\n",
       "    .dataframe thead th {\n",
       "        text-align: right;\n",
       "    }\n",
       "</style>\n",
       "<table border=\"1\" class=\"dataframe\">\n",
       "  <thead>\n",
       "    <tr style=\"text-align: right;\">\n",
       "      <th></th>\n",
       "      <th>Unnamed: 0</th>\n",
       "      <th>location</th>\n",
       "      <th>specific_location</th>\n",
       "      <th>features</th>\n",
       "      <th>bed</th>\n",
       "      <th>bath</th>\n",
       "      <th>toilet</th>\n",
       "      <th>description</th>\n",
       "      <th>price</th>\n",
       "      <th>category</th>\n",
       "      <th>property_code</th>\n",
       "      <th>date_posted/updated</th>\n",
       "      <th>service_level</th>\n",
       "      <th>key_features</th>\n",
       "      <th>detail_description</th>\n",
       "    </tr>\n",
       "  </thead>\n",
       "  <tbody>\n",
       "    <tr>\n",
       "      <th>5665</th>\n",
       "      <td>11772</td>\n",
       "      <td>ikeja</td>\n",
       "      <td>ikejaIkeja Ikeja Lagos</td>\n",
       "      <td>4 beds 4 baths 5 Toilets</td>\n",
       "      <td>4</td>\n",
       "      <td>4</td>\n",
       "      <td>5</td>\n",
       "      <td>A Spacious 3 Wings of 4 Bedroom Duplex</td>\n",
       "      <td>4000000</td>\n",
       "      <td>NaN</td>\n",
       "      <td>0133</td>\n",
       "      <td>Updated 12 Jul 2018, Added 14 Jul 2016</td>\n",
       "      <td>NaN</td>\n",
       "      <td>4 Bedroom</td>\n",
       "      <td>Very lovely spacious, 3 Wings of 4 bedrooms du...</td>\n",
       "    </tr>\n",
       "    <tr>\n",
       "      <th>6470</th>\n",
       "      <td>6470</td>\n",
       "      <td>lekki phase 1</td>\n",
       "      <td>Lekki phase 1Lagos</td>\n",
       "      <td>2 beds 2 baths Toilets</td>\n",
       "      <td>2</td>\n",
       "      <td>2</td>\n",
       "      <td>0</td>\n",
       "      <td>Serviced Two Bedroom Flat</td>\n",
       "      <td>3000000</td>\n",
       "      <td>NaN</td>\n",
       "      <td>0511</td>\n",
       "      <td>Updated 19 Jul 2018, Added 25 Jul 2016</td>\n",
       "      <td>NaN</td>\n",
       "      <td>2 Bedroom</td>\n",
       "      <td>Features..\\n\\nEnsuite 2 bedroom\\n\\nDinning\\n\\n...</td>\n",
       "    </tr>\n",
       "    <tr>\n",
       "      <th>8554</th>\n",
       "      <td>8554</td>\n",
       "      <td>lekki phase 1</td>\n",
       "      <td>LEKKI PHASE 1Lagos</td>\n",
       "      <td>beds baths Toilets</td>\n",
       "      <td>0</td>\n",
       "      <td>0</td>\n",
       "      <td>0</td>\n",
       "      <td>5 Bedroom Duplex in Lekki Phase 1</td>\n",
       "      <td>8000000</td>\n",
       "      <td>NaN</td>\n",
       "      <td>0880</td>\n",
       "      <td>Added 15 Jul 2016</td>\n",
       "      <td>NaN</td>\n",
       "      <td>NaN</td>\n",
       "      <td>Luxury 1 year old 5 bedroom duplex for let in ...</td>\n",
       "    </tr>\n",
       "    <tr>\n",
       "      <th>7139</th>\n",
       "      <td>14652</td>\n",
       "      <td>ikeja</td>\n",
       "      <td>Isaac John streetIkeja Ikeja Lagos</td>\n",
       "      <td>3 beds 3 baths 4 Toilets</td>\n",
       "      <td>3</td>\n",
       "      <td>3</td>\n",
       "      <td>4</td>\n",
       "      <td>30 Units Of 3 Bedroom Flat</td>\n",
       "      <td>5000000</td>\n",
       "      <td>NaN</td>\n",
       "      <td>0945</td>\n",
       "      <td>Updated 25 Jul 2016, Added 25 Jul 2016</td>\n",
       "      <td>NaN</td>\n",
       "      <td>3 Bedroom</td>\n",
       "      <td>A newly built 30 units of serviced  3 bedroom ...</td>\n",
       "    </tr>\n",
       "    <tr>\n",
       "      <th>4349</th>\n",
       "      <td>4349</td>\n",
       "      <td>lekki phase 1</td>\n",
       "      <td>Lekki Phase 1 Lekki Lagos</td>\n",
       "      <td>4 beds 4 baths 5 Toilets</td>\n",
       "      <td>4</td>\n",
       "      <td>4</td>\n",
       "      <td>5</td>\n",
       "      <td>LUXURY 4 BEDROOM TERRACE DUPLEX</td>\n",
       "      <td>6000000</td>\n",
       "      <td>NaN</td>\n",
       "      <td>0BWPV</td>\n",
       "      <td>Updated 21 Dec 2019, Added 09 Nov 2018</td>\n",
       "      <td>NaN</td>\n",
       "      <td>4 Bedroom</td>\n",
       "      <td>A tastefully built 4 bedroom terrace duplex wi...</td>\n",
       "    </tr>\n",
       "    <tr>\n",
       "      <th>...</th>\n",
       "      <td>...</td>\n",
       "      <td>...</td>\n",
       "      <td>...</td>\n",
       "      <td>...</td>\n",
       "      <td>...</td>\n",
       "      <td>...</td>\n",
       "      <td>...</td>\n",
       "      <td>...</td>\n",
       "      <td>...</td>\n",
       "      <td>...</td>\n",
       "      <td>...</td>\n",
       "      <td>...</td>\n",
       "      <td>...</td>\n",
       "      <td>...</td>\n",
       "      <td>...</td>\n",
       "    </tr>\n",
       "    <tr>\n",
       "      <th>4895</th>\n",
       "      <td>4895</td>\n",
       "      <td>lekki phase 1</td>\n",
       "      <td>Off admiralty wayLekki Phase 1 Lekki Lagos</td>\n",
       "      <td>5 beds 5 baths 6 Toilets</td>\n",
       "      <td>5</td>\n",
       "      <td>5</td>\n",
       "      <td>6</td>\n",
       "      <td>Luxury 5 bedroom detached house + a room bq</td>\n",
       "      <td>6000000</td>\n",
       "      <td>NaN</td>\n",
       "      <td>Z4017</td>\n",
       "      <td>Updated 24 Nov 2019, Added 03 Oct 2018</td>\n",
       "      <td>NaN</td>\n",
       "      <td>5 Bedroom</td>\n",
       "      <td>An exquisite 5 bedroom fully detached house al...</td>\n",
       "    </tr>\n",
       "    <tr>\n",
       "      <th>3616</th>\n",
       "      <td>3616</td>\n",
       "      <td>lekki phase 1</td>\n",
       "      <td>Off admiralty wayLekki Phase 1 Lekki Lagos</td>\n",
       "      <td>3 beds 3 baths 4 Toilets</td>\n",
       "      <td>3</td>\n",
       "      <td>3</td>\n",
       "      <td>4</td>\n",
       "      <td>Serviced 3 bedroom apartment all rooms ensuite...</td>\n",
       "      <td>3500000</td>\n",
       "      <td>NaN</td>\n",
       "      <td>Z4022</td>\n",
       "      <td>Updated 15 Feb 2020, Added 03 Oct 2018</td>\n",
       "      <td>NaN</td>\n",
       "      <td>3 Bedroom</td>\n",
       "      <td>Tasteful 3 bedroom ensuite apartment with a we...</td>\n",
       "    </tr>\n",
       "    <tr>\n",
       "      <th>3612</th>\n",
       "      <td>3612</td>\n",
       "      <td>lekki phase 1</td>\n",
       "      <td>Off Admiralty Way Lekki Phase 1 Lekki Lagos</td>\n",
       "      <td>4 beds 4 baths 5 Toilets</td>\n",
       "      <td>4</td>\n",
       "      <td>4</td>\n",
       "      <td>5</td>\n",
       "      <td>Luxury 4 bedroom duplex + a room bq</td>\n",
       "      <td>5500000</td>\n",
       "      <td>NaN</td>\n",
       "      <td>Z5826</td>\n",
       "      <td>Updated 15 Feb 2020, Added 10 Oct 2018</td>\n",
       "      <td>NaN</td>\n",
       "      <td>4 Bedroom</td>\n",
       "      <td>Luxury 4 bedroom duplex house all rooms ensuit...</td>\n",
       "    </tr>\n",
       "    <tr>\n",
       "      <th>4858</th>\n",
       "      <td>4858</td>\n",
       "      <td>lekki phase 1</td>\n",
       "      <td>Off providence RoadLekki Phase 1 Lekki Lagos</td>\n",
       "      <td>1 beds 1 baths 1 Toilets</td>\n",
       "      <td>1</td>\n",
       "      <td>1</td>\n",
       "      <td>1</td>\n",
       "      <td>Luxury 1 bedroom apartment</td>\n",
       "      <td>1700000</td>\n",
       "      <td>NaN</td>\n",
       "      <td>Z6049</td>\n",
       "      <td>Updated 24 Nov 2019, Added 11 Oct 2018</td>\n",
       "      <td>NaN</td>\n",
       "      <td>1 Bedroom</td>\n",
       "      <td>Brand new 1 bedroom miniflat\\nSecured environm...</td>\n",
       "    </tr>\n",
       "    <tr>\n",
       "      <th>6095</th>\n",
       "      <td>6095</td>\n",
       "      <td>ajah</td>\n",
       "      <td>phase 2Lekki Gardens Estate Ajah Lagos</td>\n",
       "      <td>1 beds 1 baths 1 Toilets</td>\n",
       "      <td>1</td>\n",
       "      <td>1</td>\n",
       "      <td>1</td>\n",
       "      <td>brand new self contain BQ</td>\n",
       "      <td>300000</td>\n",
       "      <td>NaN</td>\n",
       "      <td>Z7646</td>\n",
       "      <td>Added 17 Oct 2018</td>\n",
       "      <td>NaN</td>\n",
       "      <td>1 Bedroom</td>\n",
       "      <td>brand new, nice self contain bq at lekki garde...</td>\n",
       "    </tr>\n",
       "  </tbody>\n",
       "</table>\n",
       "<p>2616 rows × 15 columns</p>\n",
       "</div>"
      ],
      "text/plain": [
       "      Unnamed: 0       location                             specific_location  \\\n",
       "5665       11772          ikeja                        ikejaIkeja Ikeja Lagos   \n",
       "6470        6470  lekki phase 1                            Lekki phase 1Lagos   \n",
       "8554        8554  lekki phase 1                            LEKKI PHASE 1Lagos   \n",
       "7139       14652          ikeja            Isaac John streetIkeja Ikeja Lagos   \n",
       "4349        4349  lekki phase 1                     Lekki Phase 1 Lekki Lagos   \n",
       "...          ...            ...                                           ...   \n",
       "4895        4895  lekki phase 1    Off admiralty wayLekki Phase 1 Lekki Lagos   \n",
       "3616        3616  lekki phase 1    Off admiralty wayLekki Phase 1 Lekki Lagos   \n",
       "3612        3612  lekki phase 1   Off Admiralty Way Lekki Phase 1 Lekki Lagos   \n",
       "4858        4858  lekki phase 1  Off providence RoadLekki Phase 1 Lekki Lagos   \n",
       "6095        6095           ajah        phase 2Lekki Gardens Estate Ajah Lagos   \n",
       "\n",
       "                      features  bed  bath  toilet  \\\n",
       "5665  4 beds 4 baths 5 Toilets    4     4       5   \n",
       "6470    2 beds 2 baths Toilets    2     2       0   \n",
       "8554        beds baths Toilets    0     0       0   \n",
       "7139  3 beds 3 baths 4 Toilets    3     3       4   \n",
       "4349  4 beds 4 baths 5 Toilets    4     4       5   \n",
       "...                        ...  ...   ...     ...   \n",
       "4895  5 beds 5 baths 6 Toilets    5     5       6   \n",
       "3616  3 beds 3 baths 4 Toilets    3     3       4   \n",
       "3612  4 beds 4 baths 5 Toilets    4     4       5   \n",
       "4858  1 beds 1 baths 1 Toilets    1     1       1   \n",
       "6095  1 beds 1 baths 1 Toilets    1     1       1   \n",
       "\n",
       "                                            description    price category  \\\n",
       "5665             A Spacious 3 Wings of 4 Bedroom Duplex  4000000      NaN   \n",
       "6470                          Serviced Two Bedroom Flat  3000000      NaN   \n",
       "8554                  5 Bedroom Duplex in Lekki Phase 1  8000000      NaN   \n",
       "7139                         30 Units Of 3 Bedroom Flat  5000000      NaN   \n",
       "4349                    LUXURY 4 BEDROOM TERRACE DUPLEX  6000000      NaN   \n",
       "...                                                 ...      ...      ...   \n",
       "4895        Luxury 5 bedroom detached house + a room bq  6000000      NaN   \n",
       "3616  Serviced 3 bedroom apartment all rooms ensuite...  3500000      NaN   \n",
       "3612                Luxury 4 bedroom duplex + a room bq  5500000      NaN   \n",
       "4858                         Luxury 1 bedroom apartment  1700000      NaN   \n",
       "6095                          brand new self contain BQ   300000      NaN   \n",
       "\n",
       "     property_code                     date_posted/updated service_level  \\\n",
       "5665          0133  Updated 12 Jul 2018, Added 14 Jul 2016           NaN   \n",
       "6470          0511  Updated 19 Jul 2018, Added 25 Jul 2016           NaN   \n",
       "8554          0880                       Added 15 Jul 2016           NaN   \n",
       "7139          0945  Updated 25 Jul 2016, Added 25 Jul 2016           NaN   \n",
       "4349         0BWPV  Updated 21 Dec 2019, Added 09 Nov 2018           NaN   \n",
       "...            ...                                     ...           ...   \n",
       "4895         Z4017  Updated 24 Nov 2019, Added 03 Oct 2018           NaN   \n",
       "3616         Z4022  Updated 15 Feb 2020, Added 03 Oct 2018           NaN   \n",
       "3612         Z5826  Updated 15 Feb 2020, Added 10 Oct 2018           NaN   \n",
       "4858         Z6049  Updated 24 Nov 2019, Added 11 Oct 2018           NaN   \n",
       "6095         Z7646                       Added 17 Oct 2018           NaN   \n",
       "\n",
       "     key_features                                 detail_description  \n",
       "5665    4 Bedroom  Very lovely spacious, 3 Wings of 4 bedrooms du...  \n",
       "6470    2 Bedroom  Features..\\n\\nEnsuite 2 bedroom\\n\\nDinning\\n\\n...  \n",
       "8554          NaN  Luxury 1 year old 5 bedroom duplex for let in ...  \n",
       "7139    3 Bedroom  A newly built 30 units of serviced  3 bedroom ...  \n",
       "4349    4 Bedroom  A tastefully built 4 bedroom terrace duplex wi...  \n",
       "...           ...                                                ...  \n",
       "4895    5 Bedroom  An exquisite 5 bedroom fully detached house al...  \n",
       "3616    3 Bedroom  Tasteful 3 bedroom ensuite apartment with a we...  \n",
       "3612    4 Bedroom  Luxury 4 bedroom duplex house all rooms ensuit...  \n",
       "4858    1 Bedroom  Brand new 1 bedroom miniflat\\nSecured environm...  \n",
       "6095    1 Bedroom  brand new, nice self contain bq at lekki garde...  \n",
       "\n",
       "[2616 rows x 15 columns]"
      ]
     },
     "execution_count": 46,
     "metadata": {},
     "output_type": "execute_result"
    }
   ],
   "source": [
    "lagos_house_data[lagos_house_data.duplicated(subset=['property_code'])].sort_values(by='property_code')"
   ]
  },
  {
   "cell_type": "code",
   "execution_count": 47,
   "metadata": {},
   "outputs": [],
   "source": [
    "## Drop Duplicates From DataSet\n",
    "lagos_house_data = lagos_house_data.drop_duplicates() "
   ]
  },
  {
   "cell_type": "code",
   "execution_count": 48,
   "metadata": {},
   "outputs": [
    {
     "data": {
      "text/plain": [
       "(46789, 15)"
      ]
     },
     "execution_count": 48,
     "metadata": {},
     "output_type": "execute_result"
    }
   ],
   "source": [
    "## No property in the dataset that have all its columns duplicated by any other\n",
    "lagos_house_data.shape "
   ]
  },
  {
   "cell_type": "markdown",
   "metadata": {},
   "source": [
    "## Checking, Removing and Replacing Null Values in the Dataset"
   ]
  },
  {
   "cell_type": "code",
   "execution_count": 49,
   "metadata": {},
   "outputs": [
    {
     "data": {
      "text/plain": [
       "Unnamed: 0                 0\n",
       "location                   0\n",
       "specific_location          0\n",
       "features                   0\n",
       "bed                        0\n",
       "bath                       0\n",
       "toilet                     0\n",
       "description                0\n",
       "price                    907\n",
       "category               44400\n",
       "property_code              0\n",
       "date_posted/updated        0\n",
       "service_level          34299\n",
       "key_features            7516\n",
       "detail_description      3236\n",
       "dtype: int64"
      ]
     },
     "execution_count": 49,
     "metadata": {},
     "output_type": "execute_result"
    }
   ],
   "source": [
    "## Check Sum Of Null Values ##\n",
    "lagos_house_data.isnull().sum() "
   ]
  },
  {
   "cell_type": "markdown",
   "metadata": {},
   "source": [
    "###### <ul>\n",
    "<li>Null values in the 'price' colum has to be removed to not affect predictive model</li>\n",
    "<li>Null values in 'detail_description' & 'key_features' have to be replaced  </li>\n",
    "</ul> "
   ]
  },
  {
   "cell_type": "code",
   "execution_count": 50,
   "metadata": {},
   "outputs": [],
   "source": [
    "## Remove all Null Values in Price Colum ##\n",
    "lagos_house_data.dropna(subset =['price'], inplace=True)"
   ]
  },
  {
   "cell_type": "code",
   "execution_count": 51,
   "metadata": {},
   "outputs": [],
   "source": [
    "## Replace Null Value ##\n",
    "lagos_house_data['detail_description'].replace(np.nan,'samples must be there', inplace=True)"
   ]
  },
  {
   "cell_type": "code",
   "execution_count": 52,
   "metadata": {},
   "outputs": [],
   "source": [
    "## Replace Null Value ##\n",
    "lagos_house_data['key_features'].replace(np.nan,'samples must be there', inplace=True)"
   ]
  },
  {
   "cell_type": "markdown",
   "metadata": {},
   "source": [
    "### Removing Special Charaters from the 'price' Column"
   ]
  },
  {
   "cell_type": "code",
   "execution_count": 53,
   "metadata": {},
   "outputs": [],
   "source": [
    "## Define Spliitter fuction to Remove \n",
    "def splitter(x ,retrieve_dollar):\n",
    "    price,currency_type = None, None\n",
    "   \n",
    "    if '$' in str(x):\n",
    "        currency_type ='$'\n",
    "        price = float(str(x).split(' ')[1])++\n",
    "    else:\n",
    "        price = float(x)\n",
    "        currency_type = 'N'\n",
    "        \n",
    "    if retrieve_dollar:\n",
    "        return currency_type\n",
    "    else:\n",
    "        return price\n",
    "\n",
    "price_values = lagos_house_data.price.apply(lambda x :splitter(x,False))\n",
    "\n",
    "currency_type = lagos_house_data.price.apply(lambda x :splitter(x,True))\n"
   ]
  },
  {
   "cell_type": "code",
   "execution_count": 54,
   "metadata": {},
   "outputs": [
    {
     "data": {
      "text/plain": [
       "0        700000.0\n",
       "1       1000000.0\n",
       "2       1800000.0\n",
       "3       1500000.0\n",
       "4       1800000.0\n",
       "          ...    \n",
       "8311    2500000.0\n",
       "8312     850000.0\n",
       "8313     700000.0\n",
       "8314    2000000.0\n",
       "8315      25000.0\n",
       "Name: price, Length: 45882, dtype: float64"
      ]
     },
     "execution_count": 54,
     "metadata": {},
     "output_type": "execute_result"
    }
   ],
   "source": [
    "price_values"
   ]
  },
  {
   "cell_type": "code",
   "execution_count": 55,
   "metadata": {},
   "outputs": [],
   "source": [
    "lagos_house_data['price'] = price_values"
   ]
  },
  {
   "cell_type": "code",
   "execution_count": 56,
   "metadata": {},
   "outputs": [
    {
     "data": {
      "text/plain": [
       "Unnamed: 0                 0\n",
       "location                   0\n",
       "specific_location          0\n",
       "features                   0\n",
       "bed                        0\n",
       "bath                       0\n",
       "toilet                     0\n",
       "description                0\n",
       "price                      0\n",
       "category               44400\n",
       "property_code              0\n",
       "date_posted/updated        0\n",
       "service_level          34102\n",
       "key_features               0\n",
       "detail_description         0\n",
       "dtype: int64"
      ]
     },
     "execution_count": 56,
     "metadata": {},
     "output_type": "execute_result"
    }
   ],
   "source": [
    "lagos_house_data.isna().sum()"
   ]
  },
  {
   "cell_type": "markdown",
   "metadata": {},
   "source": [
    "### Getting New Features From Proprety Details"
   ]
  },
  {
   "cell_type": "markdown",
   "metadata": {},
   "source": [
    "### Actions\n",
    "\n",
    "###### <ul>\n",
    "Create new features that would have an effect on the price of properties in Lagos like:  \n",
    "<li>Type of properties(Houses) and Number of bedrooms  will effect on the price  </li>\n",
    "<li></li>\n",
    "</ul> "
   ]
  },
  {
   "cell_type": "code",
   "execution_count": 57,
   "metadata": {},
   "outputs": [],
   "source": [
    "## Converting strings to lower case ##\n",
    "lagos_house_data['detail_description'] = [x.lower() for x in lagos_house_data['detail_description']]\n",
    "lagos_house_data['specific_location'] = [x.lower() for x in lagos_house_data['specific_location']]\n",
    "lagos_house_data['description'] = [x.lower() if type(x) != float else x for x in lagos_house_data['description']]\n",
    "lagos_house_data['service_level'] = [x.lower() if type(x) != float else x for x in lagos_house_data['service_level']]\n"
   ]
  },
  {
   "cell_type": "code",
   "execution_count": 58,
   "metadata": {},
   "outputs": [],
   "source": [
    "## Locator Fuction ##\n",
    "def locator(column, iterator):\n",
    "    for i in iterator:\n",
    "        if i in column:\n",
    "            return i.strip().capitalize()\n"
   ]
  },
  {
   "cell_type": "code",
   "execution_count": 59,
   "metadata": {},
   "outputs": [],
   "source": [
    " ##  List of property type we wish to locate ##\n",
    "    property_type = ['semi detached bungalow', 'semi detached duplex', 'detached bungalow', 'self contain',\n",
    "                     'mini flat', 'detached duplex', 'terraced bungalow', 'terraced duplex', 'penthouse flat',\n",
    "                     'massionette house', 'blocks of flats', 'flat / apartment']\n",
    "   "
   ]
  },
  {
   "cell_type": "code",
   "execution_count": 60,
   "metadata": {},
   "outputs": [],
   "source": [
    "# Finding Property Type and dropping none values in the column\n",
    "    lagos_house_data['Property_Type'] = lagos_house_data['detail_description'].apply(lambda x: locator(x, property_type))\n",
    "    lagos_house_data.dropna(subset=['Property_Type'], inplace=True)"
   ]
  },
  {
   "cell_type": "code",
   "execution_count": 61,
   "metadata": {},
   "outputs": [
    {
     "data": {
      "text/html": [
       "<div>\n",
       "<style scoped>\n",
       "    .dataframe tbody tr th:only-of-type {\n",
       "        vertical-align: middle;\n",
       "    }\n",
       "\n",
       "    .dataframe tbody tr th {\n",
       "        vertical-align: top;\n",
       "    }\n",
       "\n",
       "    .dataframe thead th {\n",
       "        text-align: right;\n",
       "    }\n",
       "</style>\n",
       "<table border=\"1\" class=\"dataframe\">\n",
       "  <thead>\n",
       "    <tr style=\"text-align: right;\">\n",
       "      <th></th>\n",
       "      <th>Unnamed: 0</th>\n",
       "      <th>location</th>\n",
       "      <th>specific_location</th>\n",
       "      <th>features</th>\n",
       "      <th>bed</th>\n",
       "      <th>bath</th>\n",
       "      <th>toilet</th>\n",
       "      <th>description</th>\n",
       "      <th>price</th>\n",
       "      <th>category</th>\n",
       "      <th>property_code</th>\n",
       "      <th>date_posted/updated</th>\n",
       "      <th>service_level</th>\n",
       "      <th>key_features</th>\n",
       "      <th>detail_description</th>\n",
       "      <th>Property_Type</th>\n",
       "    </tr>\n",
       "  </thead>\n",
       "  <tbody>\n",
       "    <tr>\n",
       "      <th>0</th>\n",
       "      <td>0</td>\n",
       "      <td>yaba</td>\n",
       "      <td>abule ijesha yaba lagos</td>\n",
       "      <td>1 beds 1 baths 2 Toilets</td>\n",
       "      <td>1</td>\n",
       "      <td>1</td>\n",
       "      <td>2</td>\n",
       "      <td>newly built pop finished mini flat with 2 toil...</td>\n",
       "      <td>700000.0</td>\n",
       "      <td>Premium Gold</td>\n",
       "      <td>1ENKM</td>\n",
       "      <td>Updated 21 Apr 2021, Added 12 Apr 2021</td>\n",
       "      <td>newly built</td>\n",
       "      <td>1 Bedrooms\\nNew</td>\n",
       "      <td>newly built pop finished mini flat with 2 toil...</td>\n",
       "      <td>Mini flat</td>\n",
       "    </tr>\n",
       "    <tr>\n",
       "      <th>15</th>\n",
       "      <td>43</td>\n",
       "      <td>yaba</td>\n",
       "      <td>onike yaba lagos</td>\n",
       "      <td>1 beds 1 baths 2 Toilets</td>\n",
       "      <td>1</td>\n",
       "      <td>1</td>\n",
       "      <td>2</td>\n",
       "      <td>newly built mini flat, pop finished , fitted w...</td>\n",
       "      <td>700000.0</td>\n",
       "      <td>Premium</td>\n",
       "      <td>5EPFS</td>\n",
       "      <td>Added 21 Apr 2021</td>\n",
       "      <td>newly built</td>\n",
       "      <td>1 Bedrooms\\nNew</td>\n",
       "      <td>newly built mini flat, pop finished , fitted w...</td>\n",
       "      <td>Mini flat</td>\n",
       "    </tr>\n",
       "    <tr>\n",
       "      <th>17</th>\n",
       "      <td>45</td>\n",
       "      <td>yaba</td>\n",
       "      <td>off herbert macaulay wayebute metta yaba lagos</td>\n",
       "      <td>1 beds 1 baths 1 Toilets</td>\n",
       "      <td>1</td>\n",
       "      <td>1</td>\n",
       "      <td>1</td>\n",
       "      <td>a very clean &amp; spacious mini flat @ ebute mett...</td>\n",
       "      <td>500000.0</td>\n",
       "      <td>Premium</td>\n",
       "      <td>1EPFK</td>\n",
       "      <td>Added 21 Apr 2021</td>\n",
       "      <td>NaN</td>\n",
       "      <td>1 Bedroom</td>\n",
       "      <td>a very clean &amp; spacious mini flat @ ebute mett...</td>\n",
       "      <td>Mini flat</td>\n",
       "    </tr>\n",
       "  </tbody>\n",
       "</table>\n",
       "</div>"
      ],
      "text/plain": [
       "    Unnamed: 0 location                               specific_location  \\\n",
       "0            0     yaba                         abule ijesha yaba lagos   \n",
       "15          43     yaba                                onike yaba lagos   \n",
       "17          45     yaba  off herbert macaulay wayebute metta yaba lagos   \n",
       "\n",
       "                    features  bed  bath  toilet  \\\n",
       "0   1 beds 1 baths 2 Toilets    1     1       2   \n",
       "15  1 beds 1 baths 2 Toilets    1     1       2   \n",
       "17  1 beds 1 baths 1 Toilets    1     1       1   \n",
       "\n",
       "                                          description     price      category  \\\n",
       "0   newly built pop finished mini flat with 2 toil...  700000.0  Premium Gold   \n",
       "15  newly built mini flat, pop finished , fitted w...  700000.0       Premium   \n",
       "17  a very clean & spacious mini flat @ ebute mett...  500000.0       Premium   \n",
       "\n",
       "   property_code                     date_posted/updated service_level  \\\n",
       "0          1ENKM  Updated 21 Apr 2021, Added 12 Apr 2021   newly built   \n",
       "15         5EPFS                       Added 21 Apr 2021   newly built   \n",
       "17         1EPFK                       Added 21 Apr 2021           NaN   \n",
       "\n",
       "       key_features                                 detail_description  \\\n",
       "0   1 Bedrooms\\nNew  newly built pop finished mini flat with 2 toil...   \n",
       "15  1 Bedrooms\\nNew  newly built mini flat, pop finished , fitted w...   \n",
       "17        1 Bedroom  a very clean & spacious mini flat @ ebute mett...   \n",
       "\n",
       "   Property_Type  \n",
       "0      Mini flat  \n",
       "15     Mini flat  \n",
       "17     Mini flat  "
      ]
     },
     "execution_count": 61,
     "metadata": {},
     "output_type": "execute_result"
    }
   ],
   "source": [
    "lagos_house_data.head(3)"
   ]
  },
  {
   "cell_type": "code",
   "execution_count": 62,
   "metadata": {},
   "outputs": [],
   "source": [
    "\n",
    " ## Dropping lands, office and commercial properties ##\n",
    "lagos_house_data.drop(lagos_house_data[(lagos_house_data['detail_description'].str.contains('land')) | (lagos_house_data['detail_description'].str.contains('office')) | (lagos_house_data['detail_description'].str.contains('commercial'))].index, inplace=True)\n"
   ]
  },
  {
   "cell_type": "code",
   "execution_count": 63,
   "metadata": {},
   "outputs": [],
   "source": [
    "## Finding Key Features from 'description' and 'detail_description' ##\n",
    "    lagos_house_data['Parking_Space'] = np.where(\n",
    "        ((lagos_house_data.detail_description.str.contains('parking space')) | (lagos_house_data.description.str.contains('parking space'))), 1, 0)\n",
    "    lagos_house_data['Security'] = np.where(\n",
    "        ((lagos_house_data.detail_description.str.contains('security')) | (lagos_house_data.description.str.contains('security'))), 1, 0)\n",
    "    lagos_house_data['Electricity'] = np.where(\n",
    "        ((lagos_house_data.detail_description.str.contains('electricity')) | (lagos_house_data.description.str.contains('electricity'))), 1, 0)\n",
    "    lagos_house_data['Furnished'] = np.where(\n",
    "        ((lagos_house_data.detail_description.str.contains('furnished')) | (lagos_house_data.description.str.contains('furnished'))), 1, 0)\n",
    "    lagos_house_data['Security_Doors'] = np.where(\n",
    "        ((lagos_house_data.detail_description.str.contains('security doors')) | (lagos_house_data.description.str.contains('security doors'))), 1, 0)\n",
    "    lagos_house_data['CCTV'] = np.where(((lagos_house_data.detail_description.str.contains('cctv')) | (lagos_house_data.description.str.contains('cctv'))), 1, 0)\n",
    "    lagos_house_data['Pool'] = np.where(\n",
    "        ((lagos_house_data.detail_description.str.contains('pool')) | (lagos_house_data.description.str.contains('pool'))), 1, 0)\n",
    "    lagos_house_data['Gym'] = np.where(\n",
    "        ((lagos_house_data.detail_description.str.contains('gym')) | (lagos_house_data.description.str.contains('gym'))), 1, 0)\n",
    "    lagos_house_data['BQ'] = np.where(\n",
    "        ((lagos_house_data.detail_description.str.contains('bq')) | (lagos_house_data.detail_description.str.contains('serviced quarters'))), 1, 0)"
   ]
  },
  {
   "cell_type": "code",
   "execution_count": 64,
   "metadata": {},
   "outputs": [],
   "source": [
    "pd.set_option('display.max_columns',None)"
   ]
  },
  {
   "cell_type": "code",
   "execution_count": 65,
   "metadata": {},
   "outputs": [
    {
     "data": {
      "text/html": [
       "<div>\n",
       "<style scoped>\n",
       "    .dataframe tbody tr th:only-of-type {\n",
       "        vertical-align: middle;\n",
       "    }\n",
       "\n",
       "    .dataframe tbody tr th {\n",
       "        vertical-align: top;\n",
       "    }\n",
       "\n",
       "    .dataframe thead th {\n",
       "        text-align: right;\n",
       "    }\n",
       "</style>\n",
       "<table border=\"1\" class=\"dataframe\">\n",
       "  <thead>\n",
       "    <tr style=\"text-align: right;\">\n",
       "      <th></th>\n",
       "      <th>Unnamed: 0</th>\n",
       "      <th>location</th>\n",
       "      <th>specific_location</th>\n",
       "      <th>features</th>\n",
       "      <th>bed</th>\n",
       "      <th>bath</th>\n",
       "      <th>toilet</th>\n",
       "      <th>description</th>\n",
       "      <th>price</th>\n",
       "      <th>category</th>\n",
       "      <th>property_code</th>\n",
       "      <th>date_posted/updated</th>\n",
       "      <th>service_level</th>\n",
       "      <th>key_features</th>\n",
       "      <th>detail_description</th>\n",
       "      <th>Property_Type</th>\n",
       "      <th>Parking_Space</th>\n",
       "      <th>Security</th>\n",
       "      <th>Electricity</th>\n",
       "      <th>Furnished</th>\n",
       "      <th>Security_Doors</th>\n",
       "      <th>CCTV</th>\n",
       "      <th>Pool</th>\n",
       "      <th>Gym</th>\n",
       "      <th>BQ</th>\n",
       "    </tr>\n",
       "  </thead>\n",
       "  <tbody>\n",
       "    <tr>\n",
       "      <th>0</th>\n",
       "      <td>0</td>\n",
       "      <td>yaba</td>\n",
       "      <td>abule ijesha yaba lagos</td>\n",
       "      <td>1 beds 1 baths 2 Toilets</td>\n",
       "      <td>1</td>\n",
       "      <td>1</td>\n",
       "      <td>2</td>\n",
       "      <td>newly built pop finished mini flat with 2 toil...</td>\n",
       "      <td>700000.0</td>\n",
       "      <td>Premium Gold</td>\n",
       "      <td>1ENKM</td>\n",
       "      <td>Updated 21 Apr 2021, Added 12 Apr 2021</td>\n",
       "      <td>newly built</td>\n",
       "      <td>1 Bedrooms\\nNew</td>\n",
       "      <td>newly built pop finished mini flat with 2 toil...</td>\n",
       "      <td>Mini flat</td>\n",
       "      <td>0</td>\n",
       "      <td>0</td>\n",
       "      <td>0</td>\n",
       "      <td>0</td>\n",
       "      <td>0</td>\n",
       "      <td>0</td>\n",
       "      <td>0</td>\n",
       "      <td>0</td>\n",
       "      <td>0</td>\n",
       "    </tr>\n",
       "    <tr>\n",
       "      <th>15</th>\n",
       "      <td>43</td>\n",
       "      <td>yaba</td>\n",
       "      <td>onike yaba lagos</td>\n",
       "      <td>1 beds 1 baths 2 Toilets</td>\n",
       "      <td>1</td>\n",
       "      <td>1</td>\n",
       "      <td>2</td>\n",
       "      <td>newly built mini flat, pop finished , fitted w...</td>\n",
       "      <td>700000.0</td>\n",
       "      <td>Premium</td>\n",
       "      <td>5EPFS</td>\n",
       "      <td>Added 21 Apr 2021</td>\n",
       "      <td>newly built</td>\n",
       "      <td>1 Bedrooms\\nNew</td>\n",
       "      <td>newly built mini flat, pop finished , fitted w...</td>\n",
       "      <td>Mini flat</td>\n",
       "      <td>0</td>\n",
       "      <td>0</td>\n",
       "      <td>0</td>\n",
       "      <td>0</td>\n",
       "      <td>0</td>\n",
       "      <td>0</td>\n",
       "      <td>0</td>\n",
       "      <td>0</td>\n",
       "      <td>0</td>\n",
       "    </tr>\n",
       "    <tr>\n",
       "      <th>19</th>\n",
       "      <td>48</td>\n",
       "      <td>yaba</td>\n",
       "      <td>makokosabo yaba lagos</td>\n",
       "      <td>1 beds 1 baths 2 Toilets</td>\n",
       "      <td>1</td>\n",
       "      <td>1</td>\n",
       "      <td>2</td>\n",
       "      <td>newly built mini flat, all rooms en-suite, pop...</td>\n",
       "      <td>650000.0</td>\n",
       "      <td>Premium</td>\n",
       "      <td>5EPEM</td>\n",
       "      <td>Added 21 Apr 2021</td>\n",
       "      <td>newly built</td>\n",
       "      <td>1 Bedrooms\\nNew</td>\n",
       "      <td>newly built mini flat, all rooms en-suite, pop...</td>\n",
       "      <td>Mini flat</td>\n",
       "      <td>0</td>\n",
       "      <td>0</td>\n",
       "      <td>0</td>\n",
       "      <td>0</td>\n",
       "      <td>0</td>\n",
       "      <td>0</td>\n",
       "      <td>0</td>\n",
       "      <td>0</td>\n",
       "      <td>0</td>\n",
       "    </tr>\n",
       "  </tbody>\n",
       "</table>\n",
       "</div>"
      ],
      "text/plain": [
       "    Unnamed: 0 location         specific_location                  features  \\\n",
       "0            0     yaba   abule ijesha yaba lagos  1 beds 1 baths 2 Toilets   \n",
       "15          43     yaba          onike yaba lagos  1 beds 1 baths 2 Toilets   \n",
       "19          48     yaba     makokosabo yaba lagos  1 beds 1 baths 2 Toilets   \n",
       "\n",
       "    bed  bath  toilet                                        description  \\\n",
       "0     1     1       2  newly built pop finished mini flat with 2 toil...   \n",
       "15    1     1       2  newly built mini flat, pop finished , fitted w...   \n",
       "19    1     1       2  newly built mini flat, all rooms en-suite, pop...   \n",
       "\n",
       "       price      category property_code  \\\n",
       "0   700000.0  Premium Gold         1ENKM   \n",
       "15  700000.0       Premium         5EPFS   \n",
       "19  650000.0       Premium         5EPEM   \n",
       "\n",
       "                       date_posted/updated service_level     key_features  \\\n",
       "0   Updated 21 Apr 2021, Added 12 Apr 2021   newly built  1 Bedrooms\\nNew   \n",
       "15                       Added 21 Apr 2021   newly built  1 Bedrooms\\nNew   \n",
       "19                       Added 21 Apr 2021   newly built  1 Bedrooms\\nNew   \n",
       "\n",
       "                                   detail_description Property_Type  \\\n",
       "0   newly built pop finished mini flat with 2 toil...     Mini flat   \n",
       "15  newly built mini flat, pop finished , fitted w...     Mini flat   \n",
       "19  newly built mini flat, all rooms en-suite, pop...     Mini flat   \n",
       "\n",
       "    Parking_Space  Security  Electricity  Furnished  Security_Doors  CCTV  \\\n",
       "0               0         0            0          0               0     0   \n",
       "15              0         0            0          0               0     0   \n",
       "19              0         0            0          0               0     0   \n",
       "\n",
       "    Pool  Gym  BQ  \n",
       "0      0    0   0  \n",
       "15     0    0   0  \n",
       "19     0    0   0  "
      ]
     },
     "execution_count": 65,
     "metadata": {},
     "output_type": "execute_result"
    }
   ],
   "source": [
    "lagos_house_data.head(3)"
   ]
  },
  {
   "cell_type": "markdown",
   "metadata": {},
   "source": [
    "## Outliers Check and Treatment"
   ]
  },
  {
   "cell_type": "code",
   "execution_count": 66,
   "metadata": {},
   "outputs": [
    {
     "data": {
      "text/plain": [
       "<seaborn.axisgrid.FacetGrid at 0x1cddd3cd588>"
      ]
     },
     "execution_count": 66,
     "metadata": {},
     "output_type": "execute_result"
    },
    {
     "data": {
      "image/png": "[encoded data removed]",
      "text/plain": [
       "<Figure size 1800x1440 with 7 Axes>"
      ]
     },
     "metadata": {
      "needs_background": "light"
     },
     "output_type": "display_data"
    }
   ],
   "source": [
    "## Checking the relationship betten price and property type in diffrent loations ##  \n",
    "sns.catplot(\n",
    "    data=lagos_house_data[(lagos_house_data['price'] <= 5000000)] ,x='Property_Type', y='price',\n",
    "    col='location', kind='box', col_wrap=2, aspect=2.5,  legend= 'True'\n",
    ")"
   ]
  },
  {
   "cell_type": "markdown",
   "metadata": {},
   "source": [
    "### Observations\n",
    "\n",
    "###### <ul>\n",
    "<li>Detached duplex, Semi detached deplex and Terraced duplex have the highest price in all loactions </li>\n",
    "<li>Houses in Lekki pahse 1 has the highs prices of rent while houses in Ikorodu has the lowest rent prices  </li>\n",
    "</ul> "
   ]
  },
  {
   "cell_type": "code",
   "execution_count": 67,
   "metadata": {},
   "outputs": [
    {
     "data": {
      "text/plain": [
       "<seaborn.axisgrid.FacetGrid at 0x1cdd1847860>"
      ]
     },
     "execution_count": 67,
     "metadata": {},
     "output_type": "execute_result"
    },
    {
     "data": {
      "image/png": "[encoded data removed]",
      "text/plain": [
       "<Figure size 1080x1080 with 7 Axes>"
      ]
     },
     "metadata": {
      "needs_background": "light"
     },
     "output_type": "display_data"
    }
   ],
   "source": [
    "## Checking the relationship betten price and property type in diffrent loations ##  \n",
    "sns.catplot(\n",
    "    data=lagos_house_data[(lagos_house_data['price'] <= 4000000)] ,x='bed', y='price',\n",
    "    col='location', kind='box', col_wrap=3,\n",
    ")"
   ]
  },
  {
   "cell_type": "markdown",
   "metadata": {},
   "source": [
    "### Actions\n",
    "\n",
    "###### <ul>\n",
    "<li>Detect and Remove outliers form data </li>\n",
    "<li>Reduse the maximum number of rooms from 7 to 5  </li>\n",
    "</ul> "
   ]
  },
  {
   "cell_type": "code",
   "execution_count": 70,
   "metadata": {},
   "outputs": [],
   "source": [
    "## Removing properties with zero value, no bedrooms, no bath, no toilet, and those with more that 5 beds\n",
    "lagos_house_data =lagos_house_data[((lagos_house_data['bed'] > 0) & (lagos_house_data['bed'] <= 5))]\n",
    "lagos_house_data =lagos_house_data[((lagos_house_data['bath'] > 0) & (lagos_house_data['bath'] <= 5))]\n",
    "lagos_house_data =lagos_house_data[((lagos_house_data['toilet'] > 0) & (lagos_house_data['toilet'] <= 5))]\n",
    "lagos_house_data =lagos_house_data[lagos_house_data['price'] > 0]\n",
    "lagos_house_data =lagos_house_data[(lagos_house_data['bath'] > 0) & (lagos_house_data['toilet'] > 0)]"
   ]
  },
  {
   "cell_type": "code",
   "execution_count": 71,
   "metadata": {},
   "outputs": [
    {
     "data": {
      "text/plain": [
       "(6874, 25)"
      ]
     },
     "execution_count": 71,
     "metadata": {},
     "output_type": "execute_result"
    }
   ],
   "source": [
    "## Cheaking Data Shape\n",
    "lagos_house_data.shape"
   ]
  },
  {
   "cell_type": "code",
   "execution_count": 72,
   "metadata": {},
   "outputs": [],
   "source": [
    "# Function to Detect Outlier \n",
    "def outlier(df, column):\n",
    "    q25, q75 = np.percentile(df[column], 25), np.percentile(df[column], 75)\n",
    "    iqr = q75 - q25\n",
    "    cut_off = iqr * 1.5\n",
    "    lower, upper = q25 - cut_off, q75 + cut_off\n",
    "    outliers = [x for x in df[column] if x < lower or x > upper]\n",
    "    index = df.loc[df[column].isin(outliers)].index\n",
    "\n",
    "    return index\n"
   ]
  },
  {
   "cell_type": "code",
   "execution_count": 73,
   "metadata": {},
   "outputs": [],
   "source": [
    " # Dropping price outiers\n",
    "odd_price = outlier(lagos_house_data, 'price')\n",
    "lagos_house_data.drop(odd_price, inplace=True)\n"
   ]
  },
  {
   "cell_type": "code",
   "execution_count": 74,
   "metadata": {},
   "outputs": [
    {
     "data": {
      "text/plain": [
       "<seaborn.axisgrid.FacetGrid at 0x1cdd94ce898>"
      ]
     },
     "execution_count": 74,
     "metadata": {},
     "output_type": "execute_result"
    },
    {
     "data": {
      "image/png": "[encoded data removed]",
      "text/plain": [
       "<Figure size 1080x1080 with 7 Axes>"
      ]
     },
     "metadata": {
      "needs_background": "light"
     },
     "output_type": "display_data"
    }
   ],
   "source": [
    "## Checking the relationship betten price and property type in diffrent loations ##  \n",
    "sns.catplot(\n",
    "    data=lagos_house_data[(lagos_house_data['price'] <= 8000000)] ,x='bed', y='price',\n",
    "    col='location', kind='box', col_wrap=3,\n",
    ")"
   ]
  },
  {
   "cell_type": "code",
   "execution_count": 75,
   "metadata": {},
   "outputs": [
    {
     "data": {
      "text/html": [
       "<div>\n",
       "<style scoped>\n",
       "    .dataframe tbody tr th:only-of-type {\n",
       "        vertical-align: middle;\n",
       "    }\n",
       "\n",
       "    .dataframe tbody tr th {\n",
       "        vertical-align: top;\n",
       "    }\n",
       "\n",
       "    .dataframe thead th {\n",
       "        text-align: right;\n",
       "    }\n",
       "</style>\n",
       "<table border=\"1\" class=\"dataframe\">\n",
       "  <thead>\n",
       "    <tr style=\"text-align: right;\">\n",
       "      <th></th>\n",
       "      <th>Unnamed: 0</th>\n",
       "      <th>location</th>\n",
       "      <th>specific_location</th>\n",
       "      <th>features</th>\n",
       "      <th>bed</th>\n",
       "      <th>bath</th>\n",
       "      <th>toilet</th>\n",
       "      <th>description</th>\n",
       "      <th>price</th>\n",
       "      <th>category</th>\n",
       "      <th>property_code</th>\n",
       "      <th>date_posted/updated</th>\n",
       "      <th>service_level</th>\n",
       "      <th>key_features</th>\n",
       "      <th>detail_description</th>\n",
       "      <th>Property_Type</th>\n",
       "      <th>Parking_Space</th>\n",
       "      <th>Security</th>\n",
       "      <th>Electricity</th>\n",
       "      <th>Furnished</th>\n",
       "      <th>Security_Doors</th>\n",
       "      <th>CCTV</th>\n",
       "      <th>Pool</th>\n",
       "      <th>Gym</th>\n",
       "      <th>BQ</th>\n",
       "    </tr>\n",
       "  </thead>\n",
       "  <tbody>\n",
       "    <tr>\n",
       "      <th>0</th>\n",
       "      <td>0</td>\n",
       "      <td>yaba</td>\n",
       "      <td>abule ijesha yaba lagos</td>\n",
       "      <td>1 beds 1 baths 2 Toilets</td>\n",
       "      <td>1</td>\n",
       "      <td>1</td>\n",
       "      <td>2</td>\n",
       "      <td>newly built pop finished mini flat with 2 toil...</td>\n",
       "      <td>700000.0</td>\n",
       "      <td>Premium Gold</td>\n",
       "      <td>1ENKM</td>\n",
       "      <td>Updated 21 Apr 2021, Added 12 Apr 2021</td>\n",
       "      <td>newly built</td>\n",
       "      <td>1 Bedrooms\\nNew</td>\n",
       "      <td>newly built pop finished mini flat with 2 toil...</td>\n",
       "      <td>Mini flat</td>\n",
       "      <td>0</td>\n",
       "      <td>0</td>\n",
       "      <td>0</td>\n",
       "      <td>0</td>\n",
       "      <td>0</td>\n",
       "      <td>0</td>\n",
       "      <td>0</td>\n",
       "      <td>0</td>\n",
       "      <td>0</td>\n",
       "    </tr>\n",
       "    <tr>\n",
       "      <th>15</th>\n",
       "      <td>43</td>\n",
       "      <td>yaba</td>\n",
       "      <td>onike yaba lagos</td>\n",
       "      <td>1 beds 1 baths 2 Toilets</td>\n",
       "      <td>1</td>\n",
       "      <td>1</td>\n",
       "      <td>2</td>\n",
       "      <td>newly built mini flat, pop finished , fitted w...</td>\n",
       "      <td>700000.0</td>\n",
       "      <td>Premium</td>\n",
       "      <td>5EPFS</td>\n",
       "      <td>Added 21 Apr 2021</td>\n",
       "      <td>newly built</td>\n",
       "      <td>1 Bedrooms\\nNew</td>\n",
       "      <td>newly built mini flat, pop finished , fitted w...</td>\n",
       "      <td>Mini flat</td>\n",
       "      <td>0</td>\n",
       "      <td>0</td>\n",
       "      <td>0</td>\n",
       "      <td>0</td>\n",
       "      <td>0</td>\n",
       "      <td>0</td>\n",
       "      <td>0</td>\n",
       "      <td>0</td>\n",
       "      <td>0</td>\n",
       "    </tr>\n",
       "  </tbody>\n",
       "</table>\n",
       "</div>"
      ],
      "text/plain": [
       "    Unnamed: 0 location         specific_location                  features  \\\n",
       "0            0     yaba   abule ijesha yaba lagos  1 beds 1 baths 2 Toilets   \n",
       "15          43     yaba          onike yaba lagos  1 beds 1 baths 2 Toilets   \n",
       "\n",
       "    bed  bath  toilet                                        description  \\\n",
       "0     1     1       2  newly built pop finished mini flat with 2 toil...   \n",
       "15    1     1       2  newly built mini flat, pop finished , fitted w...   \n",
       "\n",
       "       price      category property_code  \\\n",
       "0   700000.0  Premium Gold         1ENKM   \n",
       "15  700000.0       Premium         5EPFS   \n",
       "\n",
       "                       date_posted/updated service_level     key_features  \\\n",
       "0   Updated 21 Apr 2021, Added 12 Apr 2021   newly built  1 Bedrooms\\nNew   \n",
       "15                       Added 21 Apr 2021   newly built  1 Bedrooms\\nNew   \n",
       "\n",
       "                                   detail_description Property_Type  \\\n",
       "0   newly built pop finished mini flat with 2 toil...     Mini flat   \n",
       "15  newly built mini flat, pop finished , fitted w...     Mini flat   \n",
       "\n",
       "    Parking_Space  Security  Electricity  Furnished  Security_Doors  CCTV  \\\n",
       "0               0         0            0          0               0     0   \n",
       "15              0         0            0          0               0     0   \n",
       "\n",
       "    Pool  Gym  BQ  \n",
       "0      0    0   0  \n",
       "15     0    0   0  "
      ]
     },
     "execution_count": 75,
     "metadata": {},
     "output_type": "execute_result"
    }
   ],
   "source": [
    "lagos_house_data.head(2)"
   ]
  },
  {
   "cell_type": "code",
   "execution_count": 76,
   "metadata": {},
   "outputs": [],
   "source": [
    "cleaned_data= lagos_house_data.drop(['service_level','specific_location','features','description','category','property_code','date_posted/updated','key_features','detail_description','Unnamed: 0'],axis=1)"
   ]
  },
  {
   "cell_type": "code",
   "execution_count": 77,
   "metadata": {},
   "outputs": [
    {
     "data": {
      "text/html": [
       "<div>\n",
       "<style scoped>\n",
       "    .dataframe tbody tr th:only-of-type {\n",
       "        vertical-align: middle;\n",
       "    }\n",
       "\n",
       "    .dataframe tbody tr th {\n",
       "        vertical-align: top;\n",
       "    }\n",
       "\n",
       "    .dataframe thead th {\n",
       "        text-align: right;\n",
       "    }\n",
       "</style>\n",
       "<table border=\"1\" class=\"dataframe\">\n",
       "  <thead>\n",
       "    <tr style=\"text-align: right;\">\n",
       "      <th></th>\n",
       "      <th>location</th>\n",
       "      <th>bed</th>\n",
       "      <th>bath</th>\n",
       "      <th>toilet</th>\n",
       "      <th>price</th>\n",
       "      <th>Property_Type</th>\n",
       "      <th>Parking_Space</th>\n",
       "      <th>Security</th>\n",
       "      <th>Electricity</th>\n",
       "      <th>Furnished</th>\n",
       "      <th>Security_Doors</th>\n",
       "      <th>CCTV</th>\n",
       "      <th>Pool</th>\n",
       "      <th>Gym</th>\n",
       "      <th>BQ</th>\n",
       "    </tr>\n",
       "  </thead>\n",
       "  <tbody>\n",
       "    <tr>\n",
       "      <th>0</th>\n",
       "      <td>yaba</td>\n",
       "      <td>1</td>\n",
       "      <td>1</td>\n",
       "      <td>2</td>\n",
       "      <td>700000.0</td>\n",
       "      <td>Mini flat</td>\n",
       "      <td>0</td>\n",
       "      <td>0</td>\n",
       "      <td>0</td>\n",
       "      <td>0</td>\n",
       "      <td>0</td>\n",
       "      <td>0</td>\n",
       "      <td>0</td>\n",
       "      <td>0</td>\n",
       "      <td>0</td>\n",
       "    </tr>\n",
       "    <tr>\n",
       "      <th>15</th>\n",
       "      <td>yaba</td>\n",
       "      <td>1</td>\n",
       "      <td>1</td>\n",
       "      <td>2</td>\n",
       "      <td>700000.0</td>\n",
       "      <td>Mini flat</td>\n",
       "      <td>0</td>\n",
       "      <td>0</td>\n",
       "      <td>0</td>\n",
       "      <td>0</td>\n",
       "      <td>0</td>\n",
       "      <td>0</td>\n",
       "      <td>0</td>\n",
       "      <td>0</td>\n",
       "      <td>0</td>\n",
       "    </tr>\n",
       "    <tr>\n",
       "      <th>19</th>\n",
       "      <td>yaba</td>\n",
       "      <td>1</td>\n",
       "      <td>1</td>\n",
       "      <td>2</td>\n",
       "      <td>650000.0</td>\n",
       "      <td>Mini flat</td>\n",
       "      <td>0</td>\n",
       "      <td>0</td>\n",
       "      <td>0</td>\n",
       "      <td>0</td>\n",
       "      <td>0</td>\n",
       "      <td>0</td>\n",
       "      <td>0</td>\n",
       "      <td>0</td>\n",
       "      <td>0</td>\n",
       "    </tr>\n",
       "    <tr>\n",
       "      <th>35</th>\n",
       "      <td>yaba</td>\n",
       "      <td>1</td>\n",
       "      <td>1</td>\n",
       "      <td>1</td>\n",
       "      <td>450000.0</td>\n",
       "      <td>Mini flat</td>\n",
       "      <td>0</td>\n",
       "      <td>0</td>\n",
       "      <td>0</td>\n",
       "      <td>0</td>\n",
       "      <td>0</td>\n",
       "      <td>0</td>\n",
       "      <td>0</td>\n",
       "      <td>0</td>\n",
       "      <td>0</td>\n",
       "    </tr>\n",
       "    <tr>\n",
       "      <th>39</th>\n",
       "      <td>yaba</td>\n",
       "      <td>3</td>\n",
       "      <td>3</td>\n",
       "      <td>4</td>\n",
       "      <td>800000.0</td>\n",
       "      <td>Detached duplex</td>\n",
       "      <td>0</td>\n",
       "      <td>1</td>\n",
       "      <td>0</td>\n",
       "      <td>0</td>\n",
       "      <td>0</td>\n",
       "      <td>0</td>\n",
       "      <td>0</td>\n",
       "      <td>0</td>\n",
       "      <td>0</td>\n",
       "    </tr>\n",
       "    <tr>\n",
       "      <th>52</th>\n",
       "      <td>yaba</td>\n",
       "      <td>1</td>\n",
       "      <td>1</td>\n",
       "      <td>2</td>\n",
       "      <td>600000.0</td>\n",
       "      <td>Mini flat</td>\n",
       "      <td>0</td>\n",
       "      <td>1</td>\n",
       "      <td>0</td>\n",
       "      <td>0</td>\n",
       "      <td>0</td>\n",
       "      <td>0</td>\n",
       "      <td>0</td>\n",
       "      <td>0</td>\n",
       "      <td>0</td>\n",
       "    </tr>\n",
       "  </tbody>\n",
       "</table>\n",
       "</div>"
      ],
      "text/plain": [
       "   location  bed  bath  toilet     price    Property_Type  Parking_Space  \\\n",
       "0      yaba    1     1       2  700000.0        Mini flat              0   \n",
       "15     yaba    1     1       2  700000.0        Mini flat              0   \n",
       "19     yaba    1     1       2  650000.0        Mini flat              0   \n",
       "35     yaba    1     1       1  450000.0        Mini flat              0   \n",
       "39     yaba    3     3       4  800000.0  Detached duplex              0   \n",
       "52     yaba    1     1       2  600000.0        Mini flat              0   \n",
       "\n",
       "    Security  Electricity  Furnished  Security_Doors  CCTV  Pool  Gym  BQ  \n",
       "0          0            0          0               0     0     0    0   0  \n",
       "15         0            0          0               0     0     0    0   0  \n",
       "19         0            0          0               0     0     0    0   0  \n",
       "35         0            0          0               0     0     0    0   0  \n",
       "39         1            0          0               0     0     0    0   0  \n",
       "52         1            0          0               0     0     0    0   0  "
      ]
     },
     "execution_count": 77,
     "metadata": {},
     "output_type": "execute_result"
    }
   ],
   "source": [
    "cleaned_data.head(6)"
   ]
  },
  {
   "cell_type": "code",
   "execution_count": 78,
   "metadata": {},
   "outputs": [],
   "source": [
    "cleaned_data.to_csv('Data/cleaned_data.csv')"
   ]
  },
  {
   "cell_type": "code",
   "execution_count": 79,
   "metadata": {},
   "outputs": [
    {
     "data": {
      "text/plain": [
       "5"
      ]
     },
     "execution_count": 79,
     "metadata": {},
     "output_type": "execute_result"
    }
   ],
   "source": []
  },
  {
   "cell_type": "code",
   "execution_count": null,
   "metadata": {},
   "outputs": [],
   "source": []
  },
  {
   "cell_type": "code",
   "execution_count": null,
   "metadata": {},
   "outputs": [],
   "source": []
  }
 ],
 "metadata": {
  "interpreter": {
   "hash": "80d43818122cd22af2614cb32329319909de36091a5ac74736f28766703f40f9"
  },
  "kernelspec": {
   "display_name": "Python 3.6.13 64-bit ('py36': conda)",
   "name": "python3"
  },
  "language_info": {
   "codemirror_mode": {
    "name": "ipython",
    "version": 3
   },
   "file_extension": ".py",
   "mimetype": "text/x-python",
   "name": "python",
   "nbconvert_exporter": "python",
   "pygments_lexer": "ipython3",
   "version": "3.6.13"
  }
 },
 "nbformat": 4,
 "nbformat_minor": 2
}
