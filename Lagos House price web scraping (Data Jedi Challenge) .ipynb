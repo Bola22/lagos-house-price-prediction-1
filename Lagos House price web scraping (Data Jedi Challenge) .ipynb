{
 "cells": [
  {
   "cell_type": "markdown",
   "metadata": {},
   "source": [
    "### Web Scraping 101 "
   ]
  },
  {
   "cell_type": "markdown",
   "metadata": {},
   "source": [
    "#### Kindly ensure you have the legal rights to scrape and use data from a site before doing so. Propertypro is more flexible about this as seen in the terms and conditions page however Nigeria Property center is not. Check below for more: \n",
    "\n",
    "#### https://www.propertypro.ng/terms\n",
    "#### https://nigeriapropertycentre.com/terms-of-use "
   ]
  },
  {
   "cell_type": "markdown",
   "metadata": {},
   "source": [
    "#### Import requests-html for making request to a website and scraping. re for regular expressions"
   ]
  },
  {
   "cell_type": "code",
   "execution_count": 29,
   "metadata": {},
   "outputs": [],
   "source": [
    "import requests, re\n",
    "from requests_html import HTMLSession"
   ]
  },
  {
   "cell_type": "markdown",
   "metadata": {},
   "source": [
    "#### Make a request to the website and extract its content (page source)"
   ]
  },
  {
   "cell_type": "code",
   "execution_count": 30,
   "metadata": {},
   "outputs": [],
   "source": [
    "r=requests.get(\"https://www.propertypro.ng/property-for-rent?search=gbagada\")\n",
    "c=r.content"
   ]
  },
  {
   "cell_type": "markdown",
   "metadata": {},
   "source": [
    "#### Create a Session and make a request to the website and extract its content (page source)"
   ]
  },
  {
   "cell_type": "code",
   "execution_count": 31,
   "metadata": {},
   "outputs": [],
   "source": [
    "session = HTMLSession()\n",
    "r = session.get(f'https://www.propertypro.ng/property-for-rent/in/lagos/gbagada')"
   ]
  },
  {
   "cell_type": "markdown",
   "metadata": {},
   "source": [
    "#### Find all properties on the page"
   ]
  },
  {
   "cell_type": "code",
   "execution_count": 32,
   "metadata": {},
   "outputs": [
    {
     "data": {
      "text/plain": [
       "[<Element 'div' class=('single-room-text',)>,\n",
       " <Element 'div' class=('single-room-text',)>,\n",
       " <Element 'div' class=('single-room-text',)>,\n",
       " <Element 'div' class=('single-room-text',)>,\n",
       " <Element 'div' class=('single-room-text',)>,\n",
       " <Element 'div' class=('single-room-text',)>,\n",
       " <Element 'div' class=('single-room-text',)>,\n",
       " <Element 'div' class=('single-room-text',)>,\n",
       " <Element 'div' class=('single-room-text',)>,\n",
       " <Element 'div' class=('single-room-text',)>,\n",
       " <Element 'div' class=('single-room-text',)>,\n",
       " <Element 'div' class=('single-room-text',)>,\n",
       " <Element 'div' class=('single-room-text',)>,\n",
       " <Element 'div' class=('single-room-text',)>,\n",
       " <Element 'div' class=('single-room-text',)>,\n",
       " <Element 'div' class=('single-room-text',)>,\n",
       " <Element 'div' class=('single-room-text',)>,\n",
       " <Element 'div' class=('single-room-text',)>,\n",
       " <Element 'div' class=('single-room-text',)>,\n",
       " <Element 'div' class=('single-room-text',)>,\n",
       " <Element 'div' class=('single-room-text',)>]"
      ]
     },
     "execution_count": 32,
     "metadata": {},
     "output_type": "execute_result"
    }
   ],
   "source": [
    "properties = r.html.find('div.single-room-text')\n",
    "properties"
   ]
  },
  {
   "cell_type": "markdown",
   "metadata": {},
   "source": [
    "#### To learn more about HTML tags check the link >>> https://www.w3schools.com/tags/default.asp"
   ]
  },
  {
   "cell_type": "markdown",
   "metadata": {},
   "source": [
    "###### ."
   ]
  },
  {
   "cell_type": "markdown",
   "metadata": {},
   "source": [
    "#### Collect property features on the page.For this add the index of the feature at the end of the code e.g. [0] for bed, [2] for bath.\n",
    "\n",
    "#### This first method is not ideal because the location of the specific feature might change. For example Bed may not come first"
   ]
  },
  {
   "cell_type": "code",
   "execution_count": 33,
   "metadata": {},
   "outputs": [
    {
     "data": {
      "text/plain": [
       "['3', 'beds', 'baths', 'Toilets']"
      ]
     },
     "execution_count": 33,
     "metadata": {},
     "output_type": "execute_result"
    }
   ],
   "source": [
    "properties[2].find('div.fur-areea')[0].text.split()"
   ]
  },
  {
   "cell_type": "markdown",
   "metadata": {},
   "source": [
    "#### This second method uses regular expressions and is a better way to collect feature information, because it checks for the feature before collecting. If the feature does not exist it will give a none. For more on regular expressions check https://www.w3schools.com/python/python_regex.asp "
   ]
  },
  {
   "cell_type": "code",
   "execution_count": 34,
   "metadata": {},
   "outputs": [
    {
     "data": {
      "text/plain": [
       "'s bath'"
      ]
     },
     "execution_count": 34,
     "metadata": {},
     "output_type": "execute_result"
    }
   ],
   "source": [
    "re.findall(\"..bath\",properties[2].find('div.fur-areea')[0].text)[0].strip()"
   ]
  },
  {
   "cell_type": "markdown",
   "metadata": {},
   "source": [
    "#### You can change div and class below to search for something else. "
   ]
  },
  {
   "cell_type": "code",
   "execution_count": 35,
   "metadata": {},
   "outputs": [
    {
     "data": {
      "text/plain": [
       "'0 beds 0 baths 0 Toilets'"
      ]
     },
     "execution_count": 35,
     "metadata": {},
     "output_type": "execute_result"
    }
   ],
   "source": [
    "properties[3].find('div.fur-areea')[0].text"
   ]
  },
  {
   "cell_type": "markdown",
   "metadata": {},
   "source": [
    "#### Websites typically have a structure which allows for easy automation. For example location and page number can eaasily be changed and the website will respond accordingly. Try changing the location below and page number to surulere and page 2 respectively."
   ]
  },
  {
   "cell_type": "code",
   "execution_count": 36,
   "metadata": {},
   "outputs": [],
   "source": [
    "# https://www.propertypro.ng/property-for-rent?search=gbagada&page=1"
   ]
  },
  {
   "cell_type": "markdown",
   "metadata": {},
   "source": [
    "#### There is a slight challenge from above. You will need to get the total number of pages. This can be calculated using total number of items divided by number of listing on each page. The listing is written within a text so this has to be extracted using regular expressions. "
   ]
  },
  {
   "cell_type": "code",
   "execution_count": 37,
   "metadata": {},
   "outputs": [
    {
     "data": {
      "text/plain": [
       "'Result 1 - 20 of 6172\\nSort By\\nMost Recent\\nLowest Price\\nHighest Price\\nBeds'"
      ]
     },
     "execution_count": 37,
     "metadata": {},
     "output_type": "execute_result"
    }
   ],
   "source": [
    "r.html.find('div.property-sale-number')[0].text"
   ]
  },
  {
   "cell_type": "code",
   "execution_count": 38,
   "metadata": {},
   "outputs": [
    {
     "data": {
      "text/plain": [
       "['1', '20', '6172']"
      ]
     },
     "execution_count": 38,
     "metadata": {},
     "output_type": "execute_result"
    }
   ],
   "source": [
    "re.findall(\"\\d+\",r.html.find('div.property-sale-number')[0].text)"
   ]
  },
  {
   "cell_type": "code",
   "execution_count": 39,
   "metadata": {},
   "outputs": [
    {
     "data": {
      "text/plain": [
       "'6172'"
      ]
     },
     "execution_count": 39,
     "metadata": {},
     "output_type": "execute_result"
    }
   ],
   "source": [
    "re.findall(\"\\d+\",r.html.find('div.property-sale-number')[0].text)[2]"
   ]
  },
  {
   "cell_type": "code",
   "execution_count": 40,
   "metadata": {},
   "outputs": [
    {
     "data": {
      "text/plain": [
       "308"
      ]
     },
     "execution_count": 40,
     "metadata": {},
     "output_type": "execute_result"
    }
   ],
   "source": [
    "items = int(re.findall(\"\\d+\",r.html.find('div.property-sale-number')[0].text)[2])\n",
    "listings = 20\n",
    "page_nr = int(items/listings)\n",
    "page_nr"
   ]
  },
  {
   "cell_type": "markdown",
   "metadata": {},
   "source": [
    "#### The code below is used to extract the details on just one page per location. You can update the code to scrape multiple pages and locations or write your own code. Please as indicated in the instructions, do not scrape multiple locations or pages until off peak hours (>6pm) to avoid overloading the site.\n"
   ]
  },
  {
   "cell_type": "code",
   "execution_count": 46,
   "metadata": {},
   "outputs": [],
   "source": [
    "# session = HTMLSession()"
   ]
  },
  {
   "cell_type": "code",
   "execution_count": 56,
   "metadata": {},
   "outputs": [],
   "source": [
    "l = []\n",
    "locations = ['gbagada']\n",
    "\n",
    "for place in locations:\n",
    "    #base_url=\"https://www.propertypro.ng/property-for-rent?search=\"+place+ \"&auto=&type=&bedroom=&max_price=\"\n",
    "    r = session.get(f'https://www.propertypro.ng/property-for-rent/in/lagos/'+place)\n",
    "    \n",
    "    properties = r.html.find('div.single-room-text')\n",
    "\n",
    "    for i in list(range(0,len(properties))):\n",
    "        d={}\n",
    "        d[\"location\"] = place\n",
    "        try:\n",
    "            d[\"specific_location\"] = properties[i].find('h4')[0].text\n",
    "        except (IndexError,TypeError,AttributeError):\n",
    "            d[\"location\"] = None\n",
    "        try:\n",
    "            d[\"features\"]= properties[i].find('div.fur-areea')[0].text \n",
    "        except (AttributeError,IndexError) as e:\n",
    "            d[\"features\"]= None\n",
    "        try:\n",
    "            d[\"bed\"]= int(re.findall(\"..bed\",properties[i].find('div.fur-areea')[0].text)[0].strip()[0][0])\n",
    "        except (IndexError,TypeError,AttributeError,ValueError) as e:\n",
    "            d[\"bed\"]= 0 \n",
    "        try:\n",
    "            d[\"bath\"]= int(re.findall(\"..bath\",properties[i].find('div.fur-areea')[0].text)[0].strip()[0][0])\n",
    "        except (IndexError,TypeError,AttributeError,ValueError) as e:\n",
    "            d[\"bath\"]= 0\n",
    "        try:\n",
    "            d[\"toilet\"]= int(re.findall(\"..Toilet\",properties[i].find('div.fur-areea')[0].text)[0].strip()[0][0])\n",
    "        except (IndexError,TypeError,AttributeError,ValueError) as e:\n",
    "            d[\"toilet\"]= 0\n",
    "        try:\n",
    "            d[\"description\"]= properties[i].find('h3.listings-property-title2')[0].text\n",
    "        except (IndexError,TypeError,AttributeError) as e:\n",
    "            d[\"description\"]= None\n",
    "\n",
    "        try:\n",
    "            d[\"price\"]= properties[i].find('h3.listings-price')[0].text.replace(\"₦ \",\"\").replace(\",\",\"\")\n",
    "        except (IndexError,TypeError,AttributeError) as e:\n",
    "            d[\"price\"] = None\n",
    "        l.append(d)"
   ]
  },
  {
   "cell_type": "markdown",
   "metadata": {},
   "source": [
    "#### Convert output to dataframe"
   ]
  },
  {
   "cell_type": "code",
   "execution_count": 57,
   "metadata": {
    "scrolled": true
   },
   "outputs": [
    {
     "data": {
      "text/html": [
       "<div>\n",
       "<style scoped>\n",
       "    .dataframe tbody tr th:only-of-type {\n",
       "        vertical-align: middle;\n",
       "    }\n",
       "\n",
       "    .dataframe tbody tr th {\n",
       "        vertical-align: top;\n",
       "    }\n",
       "\n",
       "    .dataframe thead th {\n",
       "        text-align: right;\n",
       "    }\n",
       "</style>\n",
       "<table border=\"1\" class=\"dataframe\">\n",
       "  <thead>\n",
       "    <tr style=\"text-align: right;\">\n",
       "      <th></th>\n",
       "      <th>location</th>\n",
       "      <th>specific_location</th>\n",
       "      <th>features</th>\n",
       "      <th>bed</th>\n",
       "      <th>bath</th>\n",
       "      <th>toilet</th>\n",
       "      <th>description</th>\n",
       "      <th>price</th>\n",
       "    </tr>\n",
       "  </thead>\n",
       "  <tbody>\n",
       "    <tr>\n",
       "      <th>0</th>\n",
       "      <td>gbagada</td>\n",
       "      <td>Off Jagumolu str. BARIGA Oworonshoki Gbagada L...</td>\n",
       "      <td>1 beds 1 baths 1 Toilets</td>\n",
       "      <td>1</td>\n",
       "      <td>1</td>\n",
       "      <td>1</td>\n",
       "      <td>Tastefully finished executive service miniflat...</td>\n",
       "      <td>800000/year</td>\n",
       "    </tr>\n",
       "    <tr>\n",
       "      <th>1</th>\n",
       "      <td>gbagada</td>\n",
       "      <td>Gbagada Lagos</td>\n",
       "      <td>3 beds baths Toilets</td>\n",
       "      <td>3</td>\n",
       "      <td>0</td>\n",
       "      <td>0</td>\n",
       "      <td>Newly Built And Luxury 3 Bedroom Flats In An E...</td>\n",
       "      <td>3000000/year</td>\n",
       "    </tr>\n",
       "    <tr>\n",
       "      <th>2</th>\n",
       "      <td>gbagada</td>\n",
       "      <td>Peace estate Gbagada Lagos</td>\n",
       "      <td>0 beds 0 baths 0 Toilets</td>\n",
       "      <td>0</td>\n",
       "      <td>0</td>\n",
       "      <td>0</td>\n",
       "      <td>Room self contain</td>\n",
       "      <td>500000/year</td>\n",
       "    </tr>\n",
       "    <tr>\n",
       "      <th>3</th>\n",
       "      <td>gbagada</td>\n",
       "      <td>Phase 2 Gbagada Lagos</td>\n",
       "      <td>4 beds 4 baths 4 Toilets</td>\n",
       "      <td>4</td>\n",
       "      <td>4</td>\n",
       "      <td>4</td>\n",
       "      <td>4BEDROOM TERRACED DUPLEX (SELF COMPOUND)</td>\n",
       "      <td>4000000</td>\n",
       "    </tr>\n",
       "    <tr>\n",
       "      <th>4</th>\n",
       "      <td>gbagada</td>\n",
       "      <td>Millenuim Ups Gbagada Lagos</td>\n",
       "      <td>3 beds 3 baths 3 Toilets</td>\n",
       "      <td>3</td>\n",
       "      <td>3</td>\n",
       "      <td>3</td>\n",
       "      <td>DECENT 3BEDROOM FLAT</td>\n",
       "      <td>2500000</td>\n",
       "    </tr>\n",
       "    <tr>\n",
       "      <th>5</th>\n",
       "      <td>gbagada</td>\n",
       "      <td>Millenuim Ups Gbagada Lagos</td>\n",
       "      <td>3 beds 3 baths 3 Toilets</td>\n",
       "      <td>3</td>\n",
       "      <td>3</td>\n",
       "      <td>3</td>\n",
       "      <td>A NEWLY BUILT &amp; TASTEFULLY FINISHED MODERN 3BE...</td>\n",
       "      <td>2500000</td>\n",
       "    </tr>\n",
       "    <tr>\n",
       "      <th>6</th>\n",
       "      <td>gbagada</td>\n",
       "      <td>Medina Gbagada Lagos</td>\n",
       "      <td>2 beds 2 baths 2 Toilets</td>\n",
       "      <td>2</td>\n",
       "      <td>2</td>\n",
       "      <td>2</td>\n",
       "      <td>DECENT &amp; COMPACT 2BEDROOM FLAT FOR RENT!!</td>\n",
       "      <td>1200000</td>\n",
       "    </tr>\n",
       "    <tr>\n",
       "      <th>7</th>\n",
       "      <td>gbagada</td>\n",
       "      <td>Millenuim Ups Gbagada Lagos</td>\n",
       "      <td>3 beds 3 baths 3 Toilets</td>\n",
       "      <td>3</td>\n",
       "      <td>3</td>\n",
       "      <td>3</td>\n",
       "      <td>RELATIVELY NEW &amp; TASTEFULLY FINISHED 3BEDROOM ...</td>\n",
       "      <td>3000000</td>\n",
       "    </tr>\n",
       "    <tr>\n",
       "      <th>8</th>\n",
       "      <td>gbagada</td>\n",
       "      <td>The Venice Sangotedo Lagos</td>\n",
       "      <td>3 beds 3 baths 4 Toilets</td>\n",
       "      <td>3</td>\n",
       "      <td>3</td>\n",
       "      <td>4</td>\n",
       "      <td>3 Bedroom Terrace + BQ</td>\n",
       "      <td>None</td>\n",
       "    </tr>\n",
       "    <tr>\n",
       "      <th>9</th>\n",
       "      <td>gbagada</td>\n",
       "      <td>Millenuim Ups Gbagada Lagos</td>\n",
       "      <td>3 beds 3 baths 3 Toilets</td>\n",
       "      <td>3</td>\n",
       "      <td>3</td>\n",
       "      <td>3</td>\n",
       "      <td>A NEWLY BUILT &amp; TASTEFULLY FINISHED 3BEDROOM FLAT</td>\n",
       "      <td>3000000</td>\n",
       "    </tr>\n",
       "    <tr>\n",
       "      <th>10</th>\n",
       "      <td>gbagada</td>\n",
       "      <td>Gbagada Ifako Gbagada Gbagada Lagos</td>\n",
       "      <td>2 beds 3 baths 3 Toilets</td>\n",
       "      <td>2</td>\n",
       "      <td>3</td>\n",
       "      <td>3</td>\n",
       "      <td>Newly built and massive 2 bedroom flat apartme...</td>\n",
       "      <td>1700000/year</td>\n",
       "    </tr>\n",
       "    <tr>\n",
       "      <th>11</th>\n",
       "      <td>gbagada</td>\n",
       "      <td>Ifako Gbagada Gbagada Lagos</td>\n",
       "      <td>2 beds 2 baths 2 Toilets</td>\n",
       "      <td>2</td>\n",
       "      <td>2</td>\n",
       "      <td>2</td>\n",
       "      <td>Newly built and massive 2 bedroom flat</td>\n",
       "      <td>1700000/year</td>\n",
       "    </tr>\n",
       "    <tr>\n",
       "      <th>12</th>\n",
       "      <td>gbagada</td>\n",
       "      <td>Medina Gbagada Lagos</td>\n",
       "      <td>4 beds 4 baths 4 Toilets</td>\n",
       "      <td>4</td>\n",
       "      <td>4</td>\n",
       "      <td>4</td>\n",
       "      <td>DECENT SPACIOUS 4BEDROOM FLAT..</td>\n",
       "      <td>2200000</td>\n",
       "    </tr>\n",
       "    <tr>\n",
       "      <th>13</th>\n",
       "      <td>gbagada</td>\n",
       "      <td>Millenuim Ups Gbagada Lagos</td>\n",
       "      <td>2 beds 2 baths 2 Toilets</td>\n",
       "      <td>2</td>\n",
       "      <td>2</td>\n",
       "      <td>2</td>\n",
       "      <td>NEWLY BUILT LUXURY 2BEDROOM FLAT FOR RENT!!!</td>\n",
       "      <td>2500000</td>\n",
       "    </tr>\n",
       "    <tr>\n",
       "      <th>14</th>\n",
       "      <td>gbagada</td>\n",
       "      <td>Ifako Gbagada Gbagada Lagos</td>\n",
       "      <td>2 beds 2 baths 2 Toilets</td>\n",
       "      <td>2</td>\n",
       "      <td>2</td>\n",
       "      <td>2</td>\n",
       "      <td>DECENT 2BEDROOM FLAT FOR RENT!!</td>\n",
       "      <td>1400000</td>\n",
       "    </tr>\n",
       "    <tr>\n",
       "      <th>15</th>\n",
       "      <td>gbagada</td>\n",
       "      <td>Ifako Gbagada Gbagada Lagos</td>\n",
       "      <td>3 beds 3 baths 3 Toilets</td>\n",
       "      <td>3</td>\n",
       "      <td>3</td>\n",
       "      <td>3</td>\n",
       "      <td>RENOVATED 3BEDROOM DUPLEX</td>\n",
       "      <td>2200000</td>\n",
       "    </tr>\n",
       "    <tr>\n",
       "      <th>16</th>\n",
       "      <td>gbagada</td>\n",
       "      <td>Pedro Phase 2 Gbagada Lagos</td>\n",
       "      <td>1 beds 1 baths 2 Toilets</td>\n",
       "      <td>1</td>\n",
       "      <td>1</td>\n",
       "      <td>2</td>\n",
       "      <td>Executive standard miniflat at Pedro</td>\n",
       "      <td>800000/year</td>\n",
       "    </tr>\n",
       "    <tr>\n",
       "      <th>17</th>\n",
       "      <td>gbagada</td>\n",
       "      <td>GBAGADA PHASE 2 EXTENSION Phase 2 Gbagada Lagos</td>\n",
       "      <td>2 beds 2 baths 2 Toilets</td>\n",
       "      <td>2</td>\n",
       "      <td>2</td>\n",
       "      <td>2</td>\n",
       "      <td>A NEWLY BUILT &amp; TASTEFULLY FINISHED 2BEDROOM &amp;...</td>\n",
       "      <td>1500000</td>\n",
       "    </tr>\n",
       "    <tr>\n",
       "      <th>18</th>\n",
       "      <td>gbagada</td>\n",
       "      <td>Yetunde brown gbagada phase 1 Phase 1 Gbagada ...</td>\n",
       "      <td>1 beds 1 baths 1 Toilets</td>\n",
       "      <td>1</td>\n",
       "      <td>1</td>\n",
       "      <td>1</td>\n",
       "      <td>Executive clean miniflat</td>\n",
       "      <td>800000/year</td>\n",
       "    </tr>\n",
       "    <tr>\n",
       "      <th>19</th>\n",
       "      <td>gbagada</td>\n",
       "      <td>Phase 2 Gbagada Lagos</td>\n",
       "      <td>4 beds 4 baths 5 Toilets</td>\n",
       "      <td>4</td>\n",
       "      <td>4</td>\n",
       "      <td>5</td>\n",
       "      <td>Very decent 4 bedrooms terraced duplex</td>\n",
       "      <td>4000000/year</td>\n",
       "    </tr>\n",
       "  </tbody>\n",
       "</table>\n",
       "</div>"
      ],
      "text/plain": [
       "   location                                  specific_location  \\\n",
       "0   gbagada  Off Jagumolu str. BARIGA Oworonshoki Gbagada L...   \n",
       "1   gbagada                                      Gbagada Lagos   \n",
       "2   gbagada                         Peace estate Gbagada Lagos   \n",
       "3   gbagada                              Phase 2 Gbagada Lagos   \n",
       "4   gbagada                        Millenuim Ups Gbagada Lagos   \n",
       "5   gbagada                        Millenuim Ups Gbagada Lagos   \n",
       "6   gbagada                               Medina Gbagada Lagos   \n",
       "7   gbagada                        Millenuim Ups Gbagada Lagos   \n",
       "8   gbagada                         The Venice Sangotedo Lagos   \n",
       "9   gbagada                        Millenuim Ups Gbagada Lagos   \n",
       "10  gbagada                Gbagada Ifako Gbagada Gbagada Lagos   \n",
       "11  gbagada                        Ifako Gbagada Gbagada Lagos   \n",
       "12  gbagada                               Medina Gbagada Lagos   \n",
       "13  gbagada                        Millenuim Ups Gbagada Lagos   \n",
       "14  gbagada                        Ifako Gbagada Gbagada Lagos   \n",
       "15  gbagada                        Ifako Gbagada Gbagada Lagos   \n",
       "16  gbagada                        Pedro Phase 2 Gbagada Lagos   \n",
       "17  gbagada    GBAGADA PHASE 2 EXTENSION Phase 2 Gbagada Lagos   \n",
       "18  gbagada  Yetunde brown gbagada phase 1 Phase 1 Gbagada ...   \n",
       "19  gbagada                              Phase 2 Gbagada Lagos   \n",
       "\n",
       "                    features  bed  bath  toilet  \\\n",
       "0   1 beds 1 baths 1 Toilets    1     1       1   \n",
       "1       3 beds baths Toilets    3     0       0   \n",
       "2   0 beds 0 baths 0 Toilets    0     0       0   \n",
       "3   4 beds 4 baths 4 Toilets    4     4       4   \n",
       "4   3 beds 3 baths 3 Toilets    3     3       3   \n",
       "5   3 beds 3 baths 3 Toilets    3     3       3   \n",
       "6   2 beds 2 baths 2 Toilets    2     2       2   \n",
       "7   3 beds 3 baths 3 Toilets    3     3       3   \n",
       "8   3 beds 3 baths 4 Toilets    3     3       4   \n",
       "9   3 beds 3 baths 3 Toilets    3     3       3   \n",
       "10  2 beds 3 baths 3 Toilets    2     3       3   \n",
       "11  2 beds 2 baths 2 Toilets    2     2       2   \n",
       "12  4 beds 4 baths 4 Toilets    4     4       4   \n",
       "13  2 beds 2 baths 2 Toilets    2     2       2   \n",
       "14  2 beds 2 baths 2 Toilets    2     2       2   \n",
       "15  3 beds 3 baths 3 Toilets    3     3       3   \n",
       "16  1 beds 1 baths 2 Toilets    1     1       2   \n",
       "17  2 beds 2 baths 2 Toilets    2     2       2   \n",
       "18  1 beds 1 baths 1 Toilets    1     1       1   \n",
       "19  4 beds 4 baths 5 Toilets    4     4       5   \n",
       "\n",
       "                                          description         price  \n",
       "0   Tastefully finished executive service miniflat...   800000/year  \n",
       "1   Newly Built And Luxury 3 Bedroom Flats In An E...  3000000/year  \n",
       "2                                   Room self contain   500000/year  \n",
       "3            4BEDROOM TERRACED DUPLEX (SELF COMPOUND)       4000000  \n",
       "4                                DECENT 3BEDROOM FLAT       2500000  \n",
       "5   A NEWLY BUILT & TASTEFULLY FINISHED MODERN 3BE...       2500000  \n",
       "6           DECENT & COMPACT 2BEDROOM FLAT FOR RENT!!       1200000  \n",
       "7   RELATIVELY NEW & TASTEFULLY FINISHED 3BEDROOM ...       3000000  \n",
       "8                              3 Bedroom Terrace + BQ          None  \n",
       "9   A NEWLY BUILT & TASTEFULLY FINISHED 3BEDROOM FLAT       3000000  \n",
       "10  Newly built and massive 2 bedroom flat apartme...  1700000/year  \n",
       "11             Newly built and massive 2 bedroom flat  1700000/year  \n",
       "12                    DECENT SPACIOUS 4BEDROOM FLAT..       2200000  \n",
       "13       NEWLY BUILT LUXURY 2BEDROOM FLAT FOR RENT!!!       2500000  \n",
       "14                    DECENT 2BEDROOM FLAT FOR RENT!!       1400000  \n",
       "15                          RENOVATED 3BEDROOM DUPLEX       2200000  \n",
       "16               Executive standard miniflat at Pedro   800000/year  \n",
       "17  A NEWLY BUILT & TASTEFULLY FINISHED 2BEDROOM &...       1500000  \n",
       "18                           Executive clean miniflat   800000/year  \n",
       "19             Very decent 4 bedrooms terraced duplex  4000000/year  "
      ]
     },
     "execution_count": 57,
     "metadata": {},
     "output_type": "execute_result"
    }
   ],
   "source": [
    "import pandas as pd\n",
    "ld = pd.DataFrame(l)\n",
    "ld"
   ]
  },
  {
   "cell_type": "code",
   "execution_count": 44,
   "metadata": {},
   "outputs": [],
   "source": [
    "ld.to_csv(\"House_prices_gbagada.csv\")"
   ]
  }
 ],
 "metadata": {
  "interpreter": {
   "hash": "80d43818122cd22af2614cb32329319909de36091a5ac74736f28766703f40f9"
  },
  "kernelspec": {
   "display_name": "Python 3.6.13 64-bit ('py36': conda)",
   "name": "python3"
  },
  "language_info": {
   "codemirror_mode": {
    "name": "ipython",
    "version": 3
   },
   "file_extension": ".py",
   "mimetype": "text/x-python",
   "name": "python",
   "nbconvert_exporter": "python",
   "pygments_lexer": "ipython3",
   "version": "3.6.13"
  }
 },
 "nbformat": 4,
 "nbformat_minor": 2
}
