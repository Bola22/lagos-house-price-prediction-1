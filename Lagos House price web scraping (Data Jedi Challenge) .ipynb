{
 "cells": [
  {
   "cell_type": "markdown",
   "metadata": {},
   "source": [
    "### Web Scraping 101 "
   ]
  },
  {
   "cell_type": "markdown",
   "metadata": {},
   "source": [
    "#### Kindly ensure you have the legal rights to scrape and use data from a site before doing so. Propertypro is more flexible about this as seen in the terms and conditions page however Nigeria Property center is not. Check below for more: \n",
    "\n",
    "#### https://www.propertypro.ng/terms\n",
    "#### https://nigeriapropertycentre.com/terms-of-use "
   ]
  },
  {
   "cell_type": "markdown",
   "metadata": {},
   "source": [
    "#### Import requests-html for making request to a website and scraping. re for regular expressions"
   ]
  },
  {
   "cell_type": "code",
   "execution_count": 1,
   "metadata": {},
   "outputs": [
    {
     "name": "stderr",
     "output_type": "stream",
     "text": [
      "C:\\Users\\aoluleye001\\AppData\\Local\\Continuum\\anaconda3\\lib\\site-packages\\requests\\__init__.py:91: RequestsDependencyWarning: urllib3 (1.26.2) or chardet (3.0.4) doesn't match a supported version!\n",
      "  RequestsDependencyWarning)\n"
     ]
    }
   ],
   "source": [
    "import requests, re\n",
    "from requests_html import HTMLSession"
   ]
  },
  {
   "cell_type": "markdown",
   "metadata": {},
   "source": [
    "#### Make a request to the website and extract its content (page source)"
   ]
  },
  {
   "cell_type": "code",
   "execution_count": 2,
   "metadata": {},
   "outputs": [],
   "source": [
    "r=requests.get(\"https://www.propertypro.ng/property-for-rent?search=gbagada\")\n",
    "c=r.content"
   ]
  },
  {
   "cell_type": "markdown",
   "metadata": {},
   "source": [
    "#### Create a Session and make a request to the website and extract its content (page source)"
   ]
  },
  {
   "cell_type": "code",
   "execution_count": 3,
   "metadata": {},
   "outputs": [],
   "source": [
    "session = HTMLSession()\n",
    "r = session.get(f'https://www.propertypro.ng/property-for-rent/in/lagos/gbagada')"
   ]
  },
  {
   "cell_type": "markdown",
   "metadata": {},
   "source": [
    "#### Find all properties on the page"
   ]
  },
  {
   "cell_type": "code",
   "execution_count": 4,
   "metadata": {},
   "outputs": [
    {
     "data": {
      "text/plain": [
       "[<Element 'div' class=('single-room-text',)>,\n",
       " <Element 'div' class=('single-room-text',)>,\n",
       " <Element 'div' class=('single-room-text',)>,\n",
       " <Element 'div' class=('single-room-text',)>,\n",
       " <Element 'div' class=('single-room-text',)>,\n",
       " <Element 'div' class=('single-room-text',)>,\n",
       " <Element 'div' class=('single-room-text',)>,\n",
       " <Element 'div' class=('single-room-text',)>,\n",
       " <Element 'div' class=('single-room-text',)>,\n",
       " <Element 'div' class=('single-room-text',)>,\n",
       " <Element 'div' class=('single-room-text',)>,\n",
       " <Element 'div' class=('single-room-text',)>,\n",
       " <Element 'div' class=('single-room-text',)>,\n",
       " <Element 'div' class=('single-room-text',)>,\n",
       " <Element 'div' class=('single-room-text',)>,\n",
       " <Element 'div' class=('single-room-text',)>,\n",
       " <Element 'div' class=('single-room-text',)>,\n",
       " <Element 'div' class=('single-room-text',)>,\n",
       " <Element 'div' class=('single-room-text',)>,\n",
       " <Element 'div' class=('single-room-text',)>,\n",
       " <Element 'div' class=('single-room-text',)>]"
      ]
     },
     "execution_count": 4,
     "metadata": {},
     "output_type": "execute_result"
    }
   ],
   "source": [
    "properties = r.html.find('div.single-room-text')\n",
    "properties"
   ]
  },
  {
   "cell_type": "markdown",
   "metadata": {},
   "source": [
    "#### To learn more about HTML tags check the link >>> https://www.w3schools.com/tags/default.asp"
   ]
  },
  {
   "cell_type": "markdown",
   "metadata": {},
   "source": [
    "###### ."
   ]
  },
  {
   "cell_type": "markdown",
   "metadata": {},
   "source": [
    "#### Collect property features on the page.For this add the index of the feature at the end of the code e.g. [0] for bed, [2] for bath.\n",
    "\n",
    "#### This first method is not ideal because the location of the specific feature might change. For example Bed may not come first"
   ]
  },
  {
   "cell_type": "code",
   "execution_count": 18,
   "metadata": {},
   "outputs": [
    {
     "data": {
      "text/plain": [
       "['4', 'beds', '4', 'baths', '4', 'Toilets']"
      ]
     },
     "execution_count": 18,
     "metadata": {},
     "output_type": "execute_result"
    }
   ],
   "source": [
    "properties[2].find('div.fur-areea')[0].text.split()"
   ]
  },
  {
   "cell_type": "markdown",
   "metadata": {},
   "source": [
    "#### This second method uses regular expressions and is a better way to collect feature information, because it checks for the feature before collecting. If the feature does not exist it will give a none. For more on regular expressions check https://www.w3schools.com/python/python_regex.asp "
   ]
  },
  {
   "cell_type": "code",
   "execution_count": 19,
   "metadata": {},
   "outputs": [
    {
     "data": {
      "text/plain": [
       "'4 bath'"
      ]
     },
     "execution_count": 19,
     "metadata": {},
     "output_type": "execute_result"
    }
   ],
   "source": [
    "re.findall(\"..bath\",properties[2].find('div.fur-areea')[0].text)[0].strip()"
   ]
  },
  {
   "cell_type": "markdown",
   "metadata": {},
   "source": [
    "#### You can change div and class below to search for something else. "
   ]
  },
  {
   "cell_type": "code",
   "execution_count": 20,
   "metadata": {},
   "outputs": [
    {
     "data": {
      "text/plain": [
       "'1 beds 1 baths 2 Toilets'"
      ]
     },
     "execution_count": 20,
     "metadata": {},
     "output_type": "execute_result"
    }
   ],
   "source": [
    "properties[3].find('div.fur-areea')[0].text"
   ]
  },
  {
   "cell_type": "markdown",
   "metadata": {},
   "source": [
    "#### Websites typically have a structure which allows for easy automation. For example location and page number can eaasily be changed and the website will respond accordingly. Try changing the location below and page number to surulere and page 2 respectively."
   ]
  },
  {
   "cell_type": "code",
   "execution_count": null,
   "metadata": {},
   "outputs": [],
   "source": [
    "https://www.propertypro.ng/property-for-rent?search=gbagada&page=1"
   ]
  },
  {
   "cell_type": "markdown",
   "metadata": {},
   "source": [
    "#### There is a slight challenge from above. You will need to get the total number of pages. This can be calculated using total number of items divided by number of listing on each page. The listing is written within a text so this has to be extracted using regular expressions. "
   ]
  },
  {
   "cell_type": "code",
   "execution_count": 10,
   "metadata": {},
   "outputs": [
    {
     "data": {
      "text/plain": [
       "'Result 1 - 20 of 5526\\nSort By\\nMost Recent\\nLowest Price\\nHighest Price\\nBeds'"
      ]
     },
     "execution_count": 10,
     "metadata": {},
     "output_type": "execute_result"
    }
   ],
   "source": [
    "r.html.find('div.property-sale-number')[0].text"
   ]
  },
  {
   "cell_type": "code",
   "execution_count": 11,
   "metadata": {},
   "outputs": [
    {
     "data": {
      "text/plain": [
       "['1', '20', '5526']"
      ]
     },
     "execution_count": 11,
     "metadata": {},
     "output_type": "execute_result"
    }
   ],
   "source": [
    "re.findall(\"\\d+\",r.html.find('div.property-sale-number')[0].text)"
   ]
  },
  {
   "cell_type": "code",
   "execution_count": 12,
   "metadata": {},
   "outputs": [
    {
     "data": {
      "text/plain": [
       "'5526'"
      ]
     },
     "execution_count": 12,
     "metadata": {},
     "output_type": "execute_result"
    }
   ],
   "source": [
    "re.findall(\"\\d+\",r.html.find('div.property-sale-number')[0].text)[2]"
   ]
  },
  {
   "cell_type": "code",
   "execution_count": 13,
   "metadata": {},
   "outputs": [
    {
     "data": {
      "text/plain": [
       "276"
      ]
     },
     "execution_count": 13,
     "metadata": {},
     "output_type": "execute_result"
    }
   ],
   "source": [
    "items = int(re.findall(\"\\d+\",r.html.find('div.property-sale-number')[0].text)[2])\n",
    "listings = 20\n",
    "page_nr = int(items/listings)\n",
    "page_nr"
   ]
  },
  {
   "cell_type": "markdown",
   "metadata": {},
   "source": [
    "#### The code below is used to extract the details on just one page per location. You can update the code to scrape multiple pages and locations or write your own code. Please as indicated in the instructions, do not scrape multiple locations or pages until off peak hours (>6pm) to avoid overloading the site.\n"
   ]
  },
  {
   "cell_type": "code",
   "execution_count": null,
   "metadata": {},
   "outputs": [],
   "source": [
    "#session = HTMLSession()"
   ]
  },
  {
   "cell_type": "code",
   "execution_count": 127,
   "metadata": {},
   "outputs": [],
   "source": [
    "l = []\n",
    "locations = ['gbagada']\n",
    "\n",
    "for place in locations:\n",
    "    #base_url=\"https://www.propertypro.ng/property-for-rent?search=\"+place+ \"&auto=&type=&bedroom=&max_price=\"\n",
    "    r = session.get(f'https://www.propertypro.ng/property-for-rent/in/lagos/'+place)\n",
    "    \n",
    "    properties = r.html.find('div.single-room-text')\n",
    "\n",
    "    for i in list(range(0,len(properties))):\n",
    "        d={}\n",
    "        d[\"location\"] = place\n",
    "        try:\n",
    "            d[\"specific_location\"] = properties[i].find('h4')[0].text\n",
    "        except (IndexError,TypeError,AttributeError):\n",
    "            d[\"location\"] = None\n",
    "        try:\n",
    "            d[\"features\"]= properties[i].find('div.fur-areea')[0].text \n",
    "        except (AttributeError,IndexError) as e:\n",
    "            d[\"features\"]= None\n",
    "        try:\n",
    "            d[\"bed\"]= int(re.findall(\"..bed\",properties[i].find('div.fur-areea')[0].text)[0].strip()[0][0])\n",
    "        except (IndexError,TypeError,AttributeError,ValueError) as e:\n",
    "            d[\"bed\"]= 0 \n",
    "        try:\n",
    "            d[\"bath\"]= int(re.findall(\"..bath\",properties[i].find('div.fur-areea')[0].text)[0].strip()[0][0])\n",
    "        except (IndexError,TypeError,AttributeError,ValueError) as e:\n",
    "            d[\"bath\"]= 0\n",
    "        try:\n",
    "            d[\"toilet\"]= int(re.findall(\"..Toilet\",properties[i].find('div.fur-areea')[0].text)[0].strip()[0][0])\n",
    "        except (IndexError,TypeError,AttributeError,ValueError) as e:\n",
    "            d[\"toilet\"]= 0\n",
    "        try:\n",
    "            d[\"description\"]= properties[i].find('h3.listings-property-title2')[0].text\n",
    "        except (IndexError,TypeError,AttributeError) as e:\n",
    "            d[\"description\"]= None\n",
    "\n",
    "        try:\n",
    "            d[\"price\"]= properties[i].find('h3.listings-price')[0].text.replace(\"₦ \",\"\").replace(\",\",\"\")\n",
    "        except (IndexError,TypeError,AttributeError) as e:\n",
    "            d[\"price\"] = None\n",
    "        l.append(d)"
   ]
  },
  {
   "cell_type": "markdown",
   "metadata": {},
   "source": [
    "#### Convert output to dataframe"
   ]
  },
  {
   "cell_type": "code",
   "execution_count": 128,
   "metadata": {
    "scrolled": true
   },
   "outputs": [
    {
     "data": {
      "text/html": [
       "<div>\n",
       "<style scoped>\n",
       "    .dataframe tbody tr th:only-of-type {\n",
       "        vertical-align: middle;\n",
       "    }\n",
       "\n",
       "    .dataframe tbody tr th {\n",
       "        vertical-align: top;\n",
       "    }\n",
       "\n",
       "    .dataframe thead th {\n",
       "        text-align: right;\n",
       "    }\n",
       "</style>\n",
       "<table border=\"1\" class=\"dataframe\">\n",
       "  <thead>\n",
       "    <tr style=\"text-align: right;\">\n",
       "      <th></th>\n",
       "      <th>bath</th>\n",
       "      <th>bed</th>\n",
       "      <th>description</th>\n",
       "      <th>features</th>\n",
       "      <th>location</th>\n",
       "      <th>price</th>\n",
       "      <th>specific_location</th>\n",
       "      <th>toilet</th>\n",
       "    </tr>\n",
       "  </thead>\n",
       "  <tbody>\n",
       "    <tr>\n",
       "      <th>0</th>\n",
       "      <td>4</td>\n",
       "      <td>4</td>\n",
       "      <td>Tastefully Finished 4Bedroom Terraced Duplex i...</td>\n",
       "      <td>4 beds 4 baths 4 Toilets</td>\n",
       "      <td>gbagada</td>\n",
       "      <td>65000000</td>\n",
       "      <td>Phase 1Phase 1 Gbagada Lagos</td>\n",
       "      <td>4</td>\n",
       "    </tr>\n",
       "    <tr>\n",
       "      <th>1</th>\n",
       "      <td>3</td>\n",
       "      <td>3</td>\n",
       "      <td>Newly renovated 3bedroom flat</td>\n",
       "      <td>3 beds 3 baths 4 Toilets</td>\n",
       "      <td>gbagada</td>\n",
       "      <td>3000000</td>\n",
       "      <td>Phase 1 Gbagada Lagos</td>\n",
       "      <td>4</td>\n",
       "    </tr>\n",
       "    <tr>\n",
       "      <th>2</th>\n",
       "      <td>0</td>\n",
       "      <td>4</td>\n",
       "      <td>Tastefully finished and serviced 4bedroom Terr...</td>\n",
       "      <td>4 beds baths Toilets</td>\n",
       "      <td>gbagada</td>\n",
       "      <td>2800000</td>\n",
       "      <td>Gbagada Lagos</td>\n",
       "      <td>0</td>\n",
       "    </tr>\n",
       "    <tr>\n",
       "      <th>3</th>\n",
       "      <td>0</td>\n",
       "      <td>0</td>\n",
       "      <td>Spacious miniflat</td>\n",
       "      <td>beds baths Toilets</td>\n",
       "      <td>gbagada</td>\n",
       "      <td>500000</td>\n",
       "      <td>Ifako Gbagada Gbagada Lagos</td>\n",
       "      <td>0</td>\n",
       "    </tr>\n",
       "    <tr>\n",
       "      <th>4</th>\n",
       "      <td>0</td>\n",
       "      <td>0</td>\n",
       "      <td>Standard self-contained</td>\n",
       "      <td>0 beds 0 baths 0 Toilets</td>\n",
       "      <td>gbagada</td>\n",
       "      <td>400000</td>\n",
       "      <td>...Gbagada Lagos</td>\n",
       "      <td>0</td>\n",
       "    </tr>\n",
       "    <tr>\n",
       "      <th>5</th>\n",
       "      <td>5</td>\n",
       "      <td>4</td>\n",
       "      <td>Renovated 5 bedroom office space at Atunrase g...</td>\n",
       "      <td>4 beds 5 baths 5 Toilets</td>\n",
       "      <td>gbagada</td>\n",
       "      <td>3000000</td>\n",
       "      <td>Atunrase Medina Gbagada Lagos</td>\n",
       "      <td>5</td>\n",
       "    </tr>\n",
       "    <tr>\n",
       "      <th>6</th>\n",
       "      <td>0</td>\n",
       "      <td>0</td>\n",
       "      <td>Lovely miniflat</td>\n",
       "      <td>beds baths Toilets</td>\n",
       "      <td>gbagada</td>\n",
       "      <td>700000</td>\n",
       "      <td>Gbagada Lagos</td>\n",
       "      <td>0</td>\n",
       "    </tr>\n",
       "    <tr>\n",
       "      <th>7</th>\n",
       "      <td>4</td>\n",
       "      <td>4</td>\n",
       "      <td>Executive and tastefully finished 4bedroom dup...</td>\n",
       "      <td>4 beds 4 baths 5 Toilets</td>\n",
       "      <td>gbagada</td>\n",
       "      <td>3000000</td>\n",
       "      <td>Medina Gbagada Lagos</td>\n",
       "      <td>5</td>\n",
       "    </tr>\n",
       "    <tr>\n",
       "      <th>8</th>\n",
       "      <td>0</td>\n",
       "      <td>4</td>\n",
       "      <td>An executive 4bedroom Terrance duplex</td>\n",
       "      <td>4 beds baths Toilets</td>\n",
       "      <td>gbagada</td>\n",
       "      <td>3800000</td>\n",
       "      <td>Atunrase Medina Gbagada Lagos</td>\n",
       "      <td>0</td>\n",
       "    </tr>\n",
       "    <tr>\n",
       "      <th>9</th>\n",
       "      <td>5</td>\n",
       "      <td>5</td>\n",
       "      <td>Luxury 5 bedroom detached duplex with bq</td>\n",
       "      <td>5 beds 5 baths 6 Toilets</td>\n",
       "      <td>gbagada</td>\n",
       "      <td>None</td>\n",
       "      <td>Lekki Lekki Lagos</td>\n",
       "      <td>6</td>\n",
       "    </tr>\n",
       "    <tr>\n",
       "      <th>10</th>\n",
       "      <td>0</td>\n",
       "      <td>3</td>\n",
       "      <td>3 Bedroom Flat</td>\n",
       "      <td>3 beds 0 baths 0 Toilets</td>\n",
       "      <td>gbagada</td>\n",
       "      <td>1300000</td>\n",
       "      <td>...Gbagada Lagos</td>\n",
       "      <td>0</td>\n",
       "    </tr>\n",
       "    <tr>\n",
       "      <th>11</th>\n",
       "      <td>0</td>\n",
       "      <td>0</td>\n",
       "      <td>Nice 3 bedroom flat</td>\n",
       "      <td>0 beds 0 baths 0 Toilets</td>\n",
       "      <td>gbagada</td>\n",
       "      <td>1600000</td>\n",
       "      <td>...Gbagada Lagos</td>\n",
       "      <td>0</td>\n",
       "    </tr>\n",
       "    <tr>\n",
       "      <th>12</th>\n",
       "      <td>0</td>\n",
       "      <td>3</td>\n",
       "      <td>3 bedroom apartment</td>\n",
       "      <td>3 beds 0 baths 0 Toilets</td>\n",
       "      <td>gbagada</td>\n",
       "      <td>1300000</td>\n",
       "      <td>...New Garage Gbagada Lagos</td>\n",
       "      <td>0</td>\n",
       "    </tr>\n",
       "    <tr>\n",
       "      <th>13</th>\n",
       "      <td>3</td>\n",
       "      <td>3</td>\n",
       "      <td>2 bedroom flat at yetunde brown Gbagada</td>\n",
       "      <td>3 beds 3 baths Toilets</td>\n",
       "      <td>gbagada</td>\n",
       "      <td>1300000</td>\n",
       "      <td>Ifako Gbagada Gbagada Lagos</td>\n",
       "      <td>0</td>\n",
       "    </tr>\n",
       "    <tr>\n",
       "      <th>14</th>\n",
       "      <td>0</td>\n",
       "      <td>3</td>\n",
       "      <td>Newly built and tastefully 3bedroom duplex</td>\n",
       "      <td>3 beds baths Toilets</td>\n",
       "      <td>gbagada</td>\n",
       "      <td>2800000</td>\n",
       "      <td>Gbagada Lagos</td>\n",
       "      <td>0</td>\n",
       "    </tr>\n",
       "    <tr>\n",
       "      <th>15</th>\n",
       "      <td>4</td>\n",
       "      <td>4</td>\n",
       "      <td>4 bedroom apartment at millennium estate</td>\n",
       "      <td>4 beds 4 baths 4 Toilets</td>\n",
       "      <td>gbagada</td>\n",
       "      <td>3000000</td>\n",
       "      <td>Millenuim Ups Gbagada Lagos</td>\n",
       "      <td>4</td>\n",
       "    </tr>\n",
       "    <tr>\n",
       "      <th>16</th>\n",
       "      <td>3</td>\n",
       "      <td>3</td>\n",
       "      <td>Nice 3 bedroom flat at ifako gbagada</td>\n",
       "      <td>3 beds 3 baths 3 Toilets</td>\n",
       "      <td>gbagada</td>\n",
       "      <td>1200000</td>\n",
       "      <td>Olawale Ifako Gbagada Gbagada Lagos</td>\n",
       "      <td>3</td>\n",
       "    </tr>\n",
       "    <tr>\n",
       "      <th>17</th>\n",
       "      <td>2</td>\n",
       "      <td>2</td>\n",
       "      <td>2 bedroom apartment upstairs gbagada</td>\n",
       "      <td>2 beds 2 baths 2 Toilets</td>\n",
       "      <td>gbagada</td>\n",
       "      <td>900000</td>\n",
       "      <td>Ifako Gbagada Gbagada Lagos</td>\n",
       "      <td>2</td>\n",
       "    </tr>\n",
       "    <tr>\n",
       "      <th>18</th>\n",
       "      <td>2</td>\n",
       "      <td>2</td>\n",
       "      <td>2 bedroom flat at gbagada phase 2</td>\n",
       "      <td>2 beds 2 baths 2 Toilets</td>\n",
       "      <td>gbagada</td>\n",
       "      <td>1000000</td>\n",
       "      <td>Phase 2 Gbagada Lagos</td>\n",
       "      <td>2</td>\n",
       "    </tr>\n",
       "    <tr>\n",
       "      <th>19</th>\n",
       "      <td>3</td>\n",
       "      <td>3</td>\n",
       "      <td>Nice 3 bedroom apartment at gbagada phase 2 fo...</td>\n",
       "      <td>3 beds 3 baths 3 Toilets</td>\n",
       "      <td>gbagada</td>\n",
       "      <td>1200000</td>\n",
       "      <td>Phase 2 Gbagada Lagos</td>\n",
       "      <td>3</td>\n",
       "    </tr>\n",
       "    <tr>\n",
       "      <th>20</th>\n",
       "      <td>3</td>\n",
       "      <td>3</td>\n",
       "      <td>DECENT THREE BEDROOMS</td>\n",
       "      <td>3 beds 3 baths 4 Toilets</td>\n",
       "      <td>gbagada</td>\n",
       "      <td>1400000</td>\n",
       "      <td>SawmillNew Garage Gbagada Lagos</td>\n",
       "      <td>4</td>\n",
       "    </tr>\n",
       "  </tbody>\n",
       "</table>\n",
       "</div>"
      ],
      "text/plain": [
       "    bath  bed                                        description  \\\n",
       "0      4    4  Tastefully Finished 4Bedroom Terraced Duplex i...   \n",
       "1      3    3                      Newly renovated 3bedroom flat   \n",
       "2      0    4  Tastefully finished and serviced 4bedroom Terr...   \n",
       "3      0    0                                  Spacious miniflat   \n",
       "4      0    0                            Standard self-contained   \n",
       "5      5    4  Renovated 5 bedroom office space at Atunrase g...   \n",
       "6      0    0                                    Lovely miniflat   \n",
       "7      4    4  Executive and tastefully finished 4bedroom dup...   \n",
       "8      0    4              An executive 4bedroom Terrance duplex   \n",
       "9      5    5           Luxury 5 bedroom detached duplex with bq   \n",
       "10     0    3                                     3 Bedroom Flat   \n",
       "11     0    0                                Nice 3 bedroom flat   \n",
       "12     0    3                                3 bedroom apartment   \n",
       "13     3    3            2 bedroom flat at yetunde brown Gbagada   \n",
       "14     0    3         Newly built and tastefully 3bedroom duplex   \n",
       "15     4    4           4 bedroom apartment at millennium estate   \n",
       "16     3    3               Nice 3 bedroom flat at ifako gbagada   \n",
       "17     2    2               2 bedroom apartment upstairs gbagada   \n",
       "18     2    2                  2 bedroom flat at gbagada phase 2   \n",
       "19     3    3  Nice 3 bedroom apartment at gbagada phase 2 fo...   \n",
       "20     3    3                              DECENT THREE BEDROOMS   \n",
       "\n",
       "                    features location     price  \\\n",
       "0   4 beds 4 baths 4 Toilets  gbagada  65000000   \n",
       "1   3 beds 3 baths 4 Toilets  gbagada   3000000   \n",
       "2       4 beds baths Toilets  gbagada   2800000   \n",
       "3         beds baths Toilets  gbagada    500000   \n",
       "4   0 beds 0 baths 0 Toilets  gbagada    400000   \n",
       "5   4 beds 5 baths 5 Toilets  gbagada   3000000   \n",
       "6         beds baths Toilets  gbagada    700000   \n",
       "7   4 beds 4 baths 5 Toilets  gbagada   3000000   \n",
       "8       4 beds baths Toilets  gbagada   3800000   \n",
       "9   5 beds 5 baths 6 Toilets  gbagada      None   \n",
       "10  3 beds 0 baths 0 Toilets  gbagada   1300000   \n",
       "11  0 beds 0 baths 0 Toilets  gbagada   1600000   \n",
       "12  3 beds 0 baths 0 Toilets  gbagada   1300000   \n",
       "13    3 beds 3 baths Toilets  gbagada   1300000   \n",
       "14      3 beds baths Toilets  gbagada   2800000   \n",
       "15  4 beds 4 baths 4 Toilets  gbagada   3000000   \n",
       "16  3 beds 3 baths 3 Toilets  gbagada   1200000   \n",
       "17  2 beds 2 baths 2 Toilets  gbagada    900000   \n",
       "18  2 beds 2 baths 2 Toilets  gbagada   1000000   \n",
       "19  3 beds 3 baths 3 Toilets  gbagada   1200000   \n",
       "20  3 beds 3 baths 4 Toilets  gbagada   1400000   \n",
       "\n",
       "                      specific_location  toilet  \n",
       "0          Phase 1Phase 1 Gbagada Lagos       4  \n",
       "1                 Phase 1 Gbagada Lagos       4  \n",
       "2                         Gbagada Lagos       0  \n",
       "3           Ifako Gbagada Gbagada Lagos       0  \n",
       "4                      ...Gbagada Lagos       0  \n",
       "5         Atunrase Medina Gbagada Lagos       5  \n",
       "6                         Gbagada Lagos       0  \n",
       "7                  Medina Gbagada Lagos       5  \n",
       "8         Atunrase Medina Gbagada Lagos       0  \n",
       "9                     Lekki Lekki Lagos       6  \n",
       "10                     ...Gbagada Lagos       0  \n",
       "11                     ...Gbagada Lagos       0  \n",
       "12          ...New Garage Gbagada Lagos       0  \n",
       "13          Ifako Gbagada Gbagada Lagos       0  \n",
       "14                        Gbagada Lagos       0  \n",
       "15          Millenuim Ups Gbagada Lagos       4  \n",
       "16  Olawale Ifako Gbagada Gbagada Lagos       3  \n",
       "17          Ifako Gbagada Gbagada Lagos       2  \n",
       "18                Phase 2 Gbagada Lagos       2  \n",
       "19                Phase 2 Gbagada Lagos       3  \n",
       "20      SawmillNew Garage Gbagada Lagos       4  "
      ]
     },
     "execution_count": 128,
     "metadata": {},
     "output_type": "execute_result"
    }
   ],
   "source": [
    "import pandas as pd\n",
    "ld = pd.DataFrame(l)\n",
    "ld"
   ]
  },
  {
   "cell_type": "code",
   "execution_count": null,
   "metadata": {},
   "outputs": [],
   "source": [
    "ld.to_csv(\"House_prices_gbagada.csv\")"
   ]
  }
 ],
 "metadata": {
  "interpreter": {
   "hash": "80d43818122cd22af2614cb32329319909de36091a5ac74736f28766703f40f9"
  },
  "kernelspec": {
   "display_name": "Python 3.6.13 64-bit ('py36': conda)",
   "name": "python3"
  },
  "language_info": {
   "codemirror_mode": {
    "name": "ipython",
    "version": 3
   },
   "file_extension": ".py",
   "mimetype": "text/x-python",
   "name": "python",
   "nbconvert_exporter": "python",
   "pygments_lexer": "ipython3",
   "version": "3.6.13"
  }
 },
 "nbformat": 4,
 "nbformat_minor": 2
}
